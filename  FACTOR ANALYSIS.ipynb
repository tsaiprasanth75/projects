{
 "cells": [
  {
   "cell_type": "code",
   "execution_count": 41,
   "id": "610e5173",
   "metadata": {},
   "outputs": [],
   "source": [
    "#Import Packages\n",
    "import pandas as pd\n",
    "import matplotlib.pyplot as plt\n",
    "from sklearn.preprocessing import StandardScaler as z\n"
   ]
  },
  {
   "cell_type": "code",
   "execution_count": 42,
   "id": "fa1f9269",
   "metadata": {},
   "outputs": [
    {
     "name": "stdout",
     "output_type": "stream",
     "text": [
      "Requirement already satisfied: factor_analyzer in c:\\users\\tsaip\\anaconda3\\lib\\site-packages (0.5.1)\n",
      "Requirement already satisfied: pandas in c:\\users\\tsaip\\anaconda3\\lib\\site-packages (from factor_analyzer) (2.0.3)\n",
      "Requirement already satisfied: scipy in c:\\users\\tsaip\\anaconda3\\lib\\site-packages (from factor_analyzer) (1.10.1)\n",
      "Requirement already satisfied: numpy in c:\\users\\tsaip\\anaconda3\\lib\\site-packages (from factor_analyzer) (1.24.3)\n",
      "Requirement already satisfied: scikit-learn in c:\\users\\tsaip\\anaconda3\\lib\\site-packages (from factor_analyzer) (1.3.0)\n",
      "Requirement already satisfied: python-dateutil>=2.8.2 in c:\\users\\tsaip\\anaconda3\\lib\\site-packages (from pandas->factor_analyzer) (2.8.2)\n",
      "Requirement already satisfied: pytz>=2020.1 in c:\\users\\tsaip\\anaconda3\\lib\\site-packages (from pandas->factor_analyzer) (2022.7)\n",
      "Requirement already satisfied: tzdata>=2022.1 in c:\\users\\tsaip\\anaconda3\\lib\\site-packages (from pandas->factor_analyzer) (2023.3)\n",
      "Requirement already satisfied: joblib>=1.1.1 in c:\\users\\tsaip\\anaconda3\\lib\\site-packages (from scikit-learn->factor_analyzer) (1.2.0)\n",
      "Requirement already satisfied: threadpoolctl>=2.0.0 in c:\\users\\tsaip\\anaconda3\\lib\\site-packages (from scikit-learn->factor_analyzer) (2.2.0)\n",
      "Requirement already satisfied: six>=1.5 in c:\\users\\tsaip\\anaconda3\\lib\\site-packages (from python-dateutil>=2.8.2->pandas->factor_analyzer) (1.16.0)\n"
     ]
    }
   ],
   "source": [
    "#Installl factor_analyzer\n",
    "! pip install factor_analyzer"
   ]
  },
  {
   "cell_type": "code",
   "execution_count": 43,
   "id": "5f159338",
   "metadata": {},
   "outputs": [],
   "source": [
    "from factor_analyzer import FactorAnalyzer \n",
    "from factor_analyzer import calculate_kmo as kmo\n",
    "from factor_analyzer import calculate_bartlett_sphericity as bartlett"
   ]
  },
  {
   "cell_type": "code",
   "execution_count": 44,
   "id": "33a8fd7f",
   "metadata": {},
   "outputs": [],
   "source": [
    "mydata = pd.read_excel(\"C:/Users/tsaip/Downloads/Data files for upcoming classes (1)/Factor_Analysis_Example.xlsx\")"
   ]
  },
  {
   "cell_type": "code",
   "execution_count": 45,
   "id": "8fcf8cf2",
   "metadata": {},
   "outputs": [
    {
     "data": {
      "text/html": [
       "<div>\n",
       "<style scoped>\n",
       "    .dataframe tbody tr th:only-of-type {\n",
       "        vertical-align: middle;\n",
       "    }\n",
       "\n",
       "    .dataframe tbody tr th {\n",
       "        vertical-align: top;\n",
       "    }\n",
       "\n",
       "    .dataframe thead th {\n",
       "        text-align: right;\n",
       "    }\n",
       "</style>\n",
       "<table border=\"1\" class=\"dataframe\">\n",
       "  <thead>\n",
       "    <tr style=\"text-align: right;\">\n",
       "      <th></th>\n",
       "      <th>Respondent</th>\n",
       "      <th>x1</th>\n",
       "      <th>x2</th>\n",
       "      <th>x3</th>\n",
       "      <th>x4</th>\n",
       "      <th>x5</th>\n",
       "      <th>x6</th>\n",
       "    </tr>\n",
       "  </thead>\n",
       "  <tbody>\n",
       "    <tr>\n",
       "      <th>0</th>\n",
       "      <td>1</td>\n",
       "      <td>3</td>\n",
       "      <td>4</td>\n",
       "      <td>2</td>\n",
       "      <td>3</td>\n",
       "      <td>6</td>\n",
       "      <td>3</td>\n",
       "    </tr>\n",
       "    <tr>\n",
       "      <th>1</th>\n",
       "      <td>2</td>\n",
       "      <td>6</td>\n",
       "      <td>4</td>\n",
       "      <td>7</td>\n",
       "      <td>4</td>\n",
       "      <td>1</td>\n",
       "      <td>4</td>\n",
       "    </tr>\n",
       "    <tr>\n",
       "      <th>2</th>\n",
       "      <td>3</td>\n",
       "      <td>4</td>\n",
       "      <td>6</td>\n",
       "      <td>4</td>\n",
       "      <td>5</td>\n",
       "      <td>3</td>\n",
       "      <td>6</td>\n",
       "    </tr>\n",
       "    <tr>\n",
       "      <th>3</th>\n",
       "      <td>4</td>\n",
       "      <td>1</td>\n",
       "      <td>3</td>\n",
       "      <td>2</td>\n",
       "      <td>2</td>\n",
       "      <td>6</td>\n",
       "      <td>4</td>\n",
       "    </tr>\n",
       "    <tr>\n",
       "      <th>4</th>\n",
       "      <td>5</td>\n",
       "      <td>4</td>\n",
       "      <td>6</td>\n",
       "      <td>4</td>\n",
       "      <td>5</td>\n",
       "      <td>3</td>\n",
       "      <td>6</td>\n",
       "    </tr>\n",
       "    <tr>\n",
       "      <th>...</th>\n",
       "      <td>...</td>\n",
       "      <td>...</td>\n",
       "      <td>...</td>\n",
       "      <td>...</td>\n",
       "      <td>...</td>\n",
       "      <td>...</td>\n",
       "      <td>...</td>\n",
       "    </tr>\n",
       "    <tr>\n",
       "      <th>95</th>\n",
       "      <td>96</td>\n",
       "      <td>3</td>\n",
       "      <td>5</td>\n",
       "      <td>4</td>\n",
       "      <td>6</td>\n",
       "      <td>4</td>\n",
       "      <td>7</td>\n",
       "    </tr>\n",
       "    <tr>\n",
       "      <th>96</th>\n",
       "      <td>97</td>\n",
       "      <td>7</td>\n",
       "      <td>3</td>\n",
       "      <td>6</td>\n",
       "      <td>4</td>\n",
       "      <td>2</td>\n",
       "      <td>4</td>\n",
       "    </tr>\n",
       "    <tr>\n",
       "      <th>97</th>\n",
       "      <td>98</td>\n",
       "      <td>7</td>\n",
       "      <td>3</td>\n",
       "      <td>7</td>\n",
       "      <td>4</td>\n",
       "      <td>1</td>\n",
       "      <td>4</td>\n",
       "    </tr>\n",
       "    <tr>\n",
       "      <th>98</th>\n",
       "      <td>99</td>\n",
       "      <td>7</td>\n",
       "      <td>2</td>\n",
       "      <td>6</td>\n",
       "      <td>4</td>\n",
       "      <td>1</td>\n",
       "      <td>3</td>\n",
       "    </tr>\n",
       "    <tr>\n",
       "      <th>99</th>\n",
       "      <td>100</td>\n",
       "      <td>5</td>\n",
       "      <td>4</td>\n",
       "      <td>5</td>\n",
       "      <td>4</td>\n",
       "      <td>2</td>\n",
       "      <td>4</td>\n",
       "    </tr>\n",
       "  </tbody>\n",
       "</table>\n",
       "<p>100 rows × 7 columns</p>\n",
       "</div>"
      ],
      "text/plain": [
       "    Respondent  x1  x2  x3  x4  x5  x6\n",
       "0            1   3   4   2   3   6   3\n",
       "1            2   6   4   7   4   1   4\n",
       "2            3   4   6   4   5   3   6\n",
       "3            4   1   3   2   2   6   4\n",
       "4            5   4   6   4   5   3   6\n",
       "..         ...  ..  ..  ..  ..  ..  ..\n",
       "95          96   3   5   4   6   4   7\n",
       "96          97   7   3   6   4   2   4\n",
       "97          98   7   3   7   4   1   4\n",
       "98          99   7   2   6   4   1   3\n",
       "99         100   5   4   5   4   2   4\n",
       "\n",
       "[100 rows x 7 columns]"
      ]
     },
     "execution_count": 45,
     "metadata": {},
     "output_type": "execute_result"
    }
   ],
   "source": [
    "mydata"
   ]
  },
  {
   "cell_type": "code",
   "execution_count": 46,
   "id": "bb4a6639",
   "metadata": {},
   "outputs": [
    {
     "data": {
      "text/html": [
       "<div>\n",
       "<style scoped>\n",
       "    .dataframe tbody tr th:only-of-type {\n",
       "        vertical-align: middle;\n",
       "    }\n",
       "\n",
       "    .dataframe tbody tr th {\n",
       "        vertical-align: top;\n",
       "    }\n",
       "\n",
       "    .dataframe thead th {\n",
       "        text-align: right;\n",
       "    }\n",
       "</style>\n",
       "<table border=\"1\" class=\"dataframe\">\n",
       "  <thead>\n",
       "    <tr style=\"text-align: right;\">\n",
       "      <th></th>\n",
       "      <th>Respondent</th>\n",
       "      <th>x1</th>\n",
       "      <th>x2</th>\n",
       "      <th>x3</th>\n",
       "      <th>x4</th>\n",
       "      <th>x5</th>\n",
       "      <th>x6</th>\n",
       "    </tr>\n",
       "  </thead>\n",
       "  <tbody>\n",
       "    <tr>\n",
       "      <th>0</th>\n",
       "      <td>1</td>\n",
       "      <td>3</td>\n",
       "      <td>4</td>\n",
       "      <td>2</td>\n",
       "      <td>3</td>\n",
       "      <td>6</td>\n",
       "      <td>3</td>\n",
       "    </tr>\n",
       "    <tr>\n",
       "      <th>1</th>\n",
       "      <td>2</td>\n",
       "      <td>6</td>\n",
       "      <td>4</td>\n",
       "      <td>7</td>\n",
       "      <td>4</td>\n",
       "      <td>1</td>\n",
       "      <td>4</td>\n",
       "    </tr>\n",
       "    <tr>\n",
       "      <th>2</th>\n",
       "      <td>3</td>\n",
       "      <td>4</td>\n",
       "      <td>6</td>\n",
       "      <td>4</td>\n",
       "      <td>5</td>\n",
       "      <td>3</td>\n",
       "      <td>6</td>\n",
       "    </tr>\n",
       "    <tr>\n",
       "      <th>3</th>\n",
       "      <td>4</td>\n",
       "      <td>1</td>\n",
       "      <td>3</td>\n",
       "      <td>2</td>\n",
       "      <td>2</td>\n",
       "      <td>6</td>\n",
       "      <td>4</td>\n",
       "    </tr>\n",
       "    <tr>\n",
       "      <th>4</th>\n",
       "      <td>5</td>\n",
       "      <td>4</td>\n",
       "      <td>6</td>\n",
       "      <td>4</td>\n",
       "      <td>5</td>\n",
       "      <td>3</td>\n",
       "      <td>6</td>\n",
       "    </tr>\n",
       "  </tbody>\n",
       "</table>\n",
       "</div>"
      ],
      "text/plain": [
       "   Respondent  x1  x2  x3  x4  x5  x6\n",
       "0           1   3   4   2   3   6   3\n",
       "1           2   6   4   7   4   1   4\n",
       "2           3   4   6   4   5   3   6\n",
       "3           4   1   3   2   2   6   4\n",
       "4           5   4   6   4   5   3   6"
      ]
     },
     "execution_count": 46,
     "metadata": {},
     "output_type": "execute_result"
    }
   ],
   "source": [
    "mydata.head(5)"
   ]
  },
  {
   "cell_type": "code",
   "execution_count": 47,
   "id": "1bfc175a",
   "metadata": {},
   "outputs": [],
   "source": [
    "#Clean up data\n",
    "mydata=mydata.iloc[:,1:]"
   ]
  },
  {
   "cell_type": "code",
   "execution_count": 48,
   "id": "5d881f15",
   "metadata": {},
   "outputs": [
    {
     "data": {
      "text/html": [
       "<div>\n",
       "<style scoped>\n",
       "    .dataframe tbody tr th:only-of-type {\n",
       "        vertical-align: middle;\n",
       "    }\n",
       "\n",
       "    .dataframe tbody tr th {\n",
       "        vertical-align: top;\n",
       "    }\n",
       "\n",
       "    .dataframe thead th {\n",
       "        text-align: right;\n",
       "    }\n",
       "</style>\n",
       "<table border=\"1\" class=\"dataframe\">\n",
       "  <thead>\n",
       "    <tr style=\"text-align: right;\">\n",
       "      <th></th>\n",
       "      <th>x1</th>\n",
       "      <th>x2</th>\n",
       "      <th>x3</th>\n",
       "      <th>x4</th>\n",
       "      <th>x5</th>\n",
       "      <th>x6</th>\n",
       "    </tr>\n",
       "  </thead>\n",
       "  <tbody>\n",
       "    <tr>\n",
       "      <th>0</th>\n",
       "      <td>3</td>\n",
       "      <td>4</td>\n",
       "      <td>2</td>\n",
       "      <td>3</td>\n",
       "      <td>6</td>\n",
       "      <td>3</td>\n",
       "    </tr>\n",
       "    <tr>\n",
       "      <th>1</th>\n",
       "      <td>6</td>\n",
       "      <td>4</td>\n",
       "      <td>7</td>\n",
       "      <td>4</td>\n",
       "      <td>1</td>\n",
       "      <td>4</td>\n",
       "    </tr>\n",
       "    <tr>\n",
       "      <th>2</th>\n",
       "      <td>4</td>\n",
       "      <td>6</td>\n",
       "      <td>4</td>\n",
       "      <td>5</td>\n",
       "      <td>3</td>\n",
       "      <td>6</td>\n",
       "    </tr>\n",
       "    <tr>\n",
       "      <th>3</th>\n",
       "      <td>1</td>\n",
       "      <td>3</td>\n",
       "      <td>2</td>\n",
       "      <td>2</td>\n",
       "      <td>6</td>\n",
       "      <td>4</td>\n",
       "    </tr>\n",
       "    <tr>\n",
       "      <th>4</th>\n",
       "      <td>4</td>\n",
       "      <td>6</td>\n",
       "      <td>4</td>\n",
       "      <td>5</td>\n",
       "      <td>3</td>\n",
       "      <td>6</td>\n",
       "    </tr>\n",
       "  </tbody>\n",
       "</table>\n",
       "</div>"
      ],
      "text/plain": [
       "   x1  x2  x3  x4  x5  x6\n",
       "0   3   4   2   3   6   3\n",
       "1   6   4   7   4   1   4\n",
       "2   4   6   4   5   3   6\n",
       "3   1   3   2   2   6   4\n",
       "4   4   6   4   5   3   6"
      ]
     },
     "execution_count": 48,
     "metadata": {},
     "output_type": "execute_result"
    }
   ],
   "source": [
    "mydata.head()"
   ]
  },
  {
   "cell_type": "code",
   "execution_count": 49,
   "id": "93630b24",
   "metadata": {},
   "outputs": [
    {
     "data": {
      "text/html": [
       "<div>\n",
       "<style scoped>\n",
       "    .dataframe tbody tr th:only-of-type {\n",
       "        vertical-align: middle;\n",
       "    }\n",
       "\n",
       "    .dataframe tbody tr th {\n",
       "        vertical-align: top;\n",
       "    }\n",
       "\n",
       "    .dataframe thead th {\n",
       "        text-align: right;\n",
       "    }\n",
       "</style>\n",
       "<table border=\"1\" class=\"dataframe\">\n",
       "  <thead>\n",
       "    <tr style=\"text-align: right;\">\n",
       "      <th></th>\n",
       "      <th>x1</th>\n",
       "      <th>x2</th>\n",
       "      <th>x3</th>\n",
       "      <th>x4</th>\n",
       "      <th>x5</th>\n",
       "      <th>x6</th>\n",
       "    </tr>\n",
       "  </thead>\n",
       "  <tbody>\n",
       "    <tr>\n",
       "      <th>x1</th>\n",
       "      <td>1.000</td>\n",
       "      <td>-0.081</td>\n",
       "      <td>0.881</td>\n",
       "      <td>-0.083</td>\n",
       "      <td>-0.866</td>\n",
       "      <td>-0.024</td>\n",
       "    </tr>\n",
       "    <tr>\n",
       "      <th>x2</th>\n",
       "      <td>-0.081</td>\n",
       "      <td>1.000</td>\n",
       "      <td>-0.167</td>\n",
       "      <td>0.574</td>\n",
       "      <td>0.058</td>\n",
       "      <td>0.650</td>\n",
       "    </tr>\n",
       "    <tr>\n",
       "      <th>x3</th>\n",
       "      <td>0.881</td>\n",
       "      <td>-0.167</td>\n",
       "      <td>1.000</td>\n",
       "      <td>-0.246</td>\n",
       "      <td>-0.787</td>\n",
       "      <td>-0.048</td>\n",
       "    </tr>\n",
       "    <tr>\n",
       "      <th>x4</th>\n",
       "      <td>-0.083</td>\n",
       "      <td>0.574</td>\n",
       "      <td>-0.246</td>\n",
       "      <td>1.000</td>\n",
       "      <td>-0.000</td>\n",
       "      <td>0.644</td>\n",
       "    </tr>\n",
       "    <tr>\n",
       "      <th>x5</th>\n",
       "      <td>-0.866</td>\n",
       "      <td>0.058</td>\n",
       "      <td>-0.787</td>\n",
       "      <td>-0.000</td>\n",
       "      <td>1.000</td>\n",
       "      <td>-0.096</td>\n",
       "    </tr>\n",
       "    <tr>\n",
       "      <th>x6</th>\n",
       "      <td>-0.024</td>\n",
       "      <td>0.650</td>\n",
       "      <td>-0.048</td>\n",
       "      <td>0.644</td>\n",
       "      <td>-0.096</td>\n",
       "      <td>1.000</td>\n",
       "    </tr>\n",
       "  </tbody>\n",
       "</table>\n",
       "</div>"
      ],
      "text/plain": [
       "       x1     x2     x3     x4     x5     x6\n",
       "x1  1.000 -0.081  0.881 -0.083 -0.866 -0.024\n",
       "x2 -0.081  1.000 -0.167  0.574  0.058  0.650\n",
       "x3  0.881 -0.167  1.000 -0.246 -0.787 -0.048\n",
       "x4 -0.083  0.574 -0.246  1.000 -0.000  0.644\n",
       "x5 -0.866  0.058 -0.787 -0.000  1.000 -0.096\n",
       "x6 -0.024  0.650 -0.048  0.644 -0.096  1.000"
      ]
     },
     "execution_count": 49,
     "metadata": {},
     "output_type": "execute_result"
    }
   ],
   "source": [
    "#Preliminary Analysis _ Correlation matrix\n",
    "round(mydata.corr(),3)"
   ]
  },
  {
   "cell_type": "code",
   "execution_count": 50,
   "id": "d2585c55",
   "metadata": {},
   "outputs": [],
   "source": [
    "# As coreelation exists we go ahead with Factor analysis"
   ]
  },
  {
   "cell_type": "code",
   "execution_count": 51,
   "id": "df68a973",
   "metadata": {},
   "outputs": [],
   "source": [
    "#Scale the data\n",
    "myzdata = z().fit_transform(mydata)"
   ]
  },
  {
   "cell_type": "code",
   "execution_count": 52,
   "id": "ebec08c1",
   "metadata": {},
   "outputs": [
    {
     "data": {
      "text/plain": [
       "array([[-0.48621464,  0.08203703, -1.04518558, -0.79530824,  1.30896686,\n",
       "        -0.86596105],\n",
       "       [ 1.03320612,  0.08203703,  1.4083017 , -0.04501745, -1.33007923,\n",
       "        -0.1194429 ],\n",
       "       [ 0.02025894,  1.57361936, -0.06379067,  0.70527335, -0.27446079,\n",
       "         1.37359339],\n",
       "       [-1.49916182, -0.66375414, -1.04518558, -1.54559904,  1.30896686,\n",
       "        -0.1194429 ],\n",
       "       [ 0.02025894,  1.57361936, -0.06379067,  0.70527335, -0.27446079,\n",
       "         1.37359339],\n",
       "       [-0.48621464,  0.08203703, -1.04518558, -0.79530824,  1.30896686,\n",
       "        -0.86596105],\n",
       "       [-0.99268823,  1.57361936, -1.04518558,  1.45556414,  1.83677608,\n",
       "         1.37359339],\n",
       "       [-0.48621464,  0.82782819, -0.55448812,  1.45556414,  0.25334843,\n",
       "         1.37359339],\n",
       "       [-1.49916182, -0.66375414, -1.04518558, -0.79530824,  0.78115764,\n",
       "        -0.86596105],\n",
       "       [ 0.52673253,  0.08203703,  0.42690679, -0.04501745, -0.80227001,\n",
       "        -0.1194429 ],\n",
       "       [-1.49916182, -0.66375414, -1.04518558, -0.79530824,  0.78115764,\n",
       "        -0.86596105],\n",
       "       [-0.48621464,  2.31941052, -1.04518558,  1.45556414,  0.25334843,\n",
       "        -0.86596105],\n",
       "       [-0.99268823, -0.66375414, -1.04518558, -0.04501745,  1.83677608,\n",
       "        -1.6124792 ],\n",
       "       [-0.99268823, -0.66375414, -1.53588304, -0.04501745,  0.78115764,\n",
       "        -0.1194429 ],\n",
       "       [-0.48621464,  2.31941052, -1.04518558,  1.45556414,  0.25334843,\n",
       "        -0.86596105],\n",
       "       [ 1.03320612,  0.82782819, -0.06379067, -1.54559904, -1.33007923,\n",
       "        -0.1194429 ],\n",
       "       [-0.48621464,  0.08203703, -1.04518558, -0.79530824,  1.30896686,\n",
       "        -0.86596105],\n",
       "       [-0.48621464,  2.31941052, -1.04518558,  1.45556414,  0.25334843,\n",
       "        -0.86596105],\n",
       "       [ 0.02025894,  0.08203703,  1.4083017 , -1.54559904, -0.80227001,\n",
       "         0.62707524],\n",
       "       [ 1.03320612,  0.08203703,  1.4083017 , -0.79530824, -0.80227001,\n",
       "        -0.86596105],\n",
       "       [-0.99268823,  1.57361936, -1.04518558,  1.45556414,  1.83677608,\n",
       "         1.37359339],\n",
       "       [-1.49916182, -0.66375414, -1.04518558, -1.54559904,  1.30896686,\n",
       "        -0.1194429 ],\n",
       "       [-0.99268823,  0.08203703, -0.55448812, -0.79530824,  1.30896686,\n",
       "        -0.86596105],\n",
       "       [ 1.03320612,  0.08203703,  0.91760424, -0.79530824, -0.27446079,\n",
       "        -0.1194429 ],\n",
       "       [-1.49916182, -0.66375414, -1.04518558, -0.04501745,  0.78115764,\n",
       "        -0.1194429 ],\n",
       "       [ 1.03320612,  0.08203703,  1.4083017 , -0.79530824, -0.80227001,\n",
       "        -0.86596105],\n",
       "       [-0.48621464,  0.82782819, -0.06379067,  1.45556414,  0.25334843,\n",
       "         2.12011154],\n",
       "       [ 0.52673253, -0.66375414,  0.91760424, -0.79530824, -0.27446079,\n",
       "        -0.1194429 ],\n",
       "       [-1.49916182, -0.66375414, -1.04518558, -1.54559904,  1.30896686,\n",
       "        -0.1194429 ],\n",
       "       [-1.49916182, -0.66375414, -1.04518558, -0.04501745,  0.78115764,\n",
       "        -0.1194429 ],\n",
       "       [ 1.03320612,  0.08203703,  0.91760424, -0.79530824, -0.27446079,\n",
       "        -0.1194429 ],\n",
       "       [ 0.52673253, -0.66375414,  0.91760424, -0.79530824,  0.25334843,\n",
       "        -0.86596105],\n",
       "       [-1.49916182, -0.66375414, -1.04518558, -1.54559904,  1.30896686,\n",
       "        -0.1194429 ],\n",
       "       [ 0.02025894,  1.57361936, -0.06379067,  1.45556414,  0.25334843,\n",
       "         2.12011154],\n",
       "       [-0.99268823, -0.66375414, -1.53588304, -0.04501745,  0.78115764,\n",
       "        -0.1194429 ],\n",
       "       [-1.49916182, -0.66375414, -1.04518558, -0.04501745,  0.78115764,\n",
       "        -0.1194429 ],\n",
       "       [ 0.52673253, -0.66375414,  0.91760424, -0.79530824,  0.25334843,\n",
       "        -0.86596105],\n",
       "       [ 0.02025894,  0.82782819, -0.06379067,  1.45556414, -0.80227001,\n",
       "         0.62707524],\n",
       "       [-0.99268823, -0.66375414, -1.53588304, -0.04501745,  0.78115764,\n",
       "        -0.1194429 ],\n",
       "       [ 0.02025894,  1.57361936, -0.55448812,  2.20585493, -0.80227001,\n",
       "         2.12011154],\n",
       "       [ 1.5396797 , -0.66375414,  0.91760424, -0.04501745, -0.80227001,\n",
       "        -0.1194429 ],\n",
       "       [ 0.02025894,  0.08203703,  1.4083017 , -1.54559904, -0.80227001,\n",
       "         0.62707524],\n",
       "       [ 1.5396797 , -1.4095453 ,  0.91760424, -0.04501745, -1.33007923,\n",
       "        -0.86596105],\n",
       "       [ 1.03320612, -0.66375414,  0.91760424, -0.04501745, -0.80227001,\n",
       "        -0.1194429 ],\n",
       "       [ 0.52673253, -0.66375414,  0.91760424, -0.79530824,  0.25334843,\n",
       "        -0.86596105],\n",
       "       [ 1.03320612,  0.08203703,  1.4083017 , -0.04501745, -1.33007923,\n",
       "        -0.1194429 ],\n",
       "       [ 0.52673253,  0.08203703,  0.42690679, -0.04501745, -0.80227001,\n",
       "        -0.1194429 ],\n",
       "       [ 1.03320612, -0.66375414,  0.91760424, -0.04501745, -0.80227001,\n",
       "        -0.1194429 ],\n",
       "       [-0.99268823, -0.66375414, -1.04518558, -0.04501745,  1.83677608,\n",
       "        -1.6124792 ],\n",
       "       [-0.48621464,  0.82782819, -0.06379067,  1.45556414,  0.25334843,\n",
       "         2.12011154],\n",
       "       [ 1.5396797 , -0.66375414,  1.4083017 , -0.04501745, -1.33007923,\n",
       "        -0.1194429 ],\n",
       "       [-1.49916182, -0.66375414, -1.04518558, -0.79530824,  0.78115764,\n",
       "        -0.86596105],\n",
       "       [ 0.02025894,  1.57361936, -0.06379067,  1.45556414,  0.25334843,\n",
       "         2.12011154],\n",
       "       [ 0.52673253, -0.66375414,  0.91760424, -0.79530824, -0.27446079,\n",
       "        -0.1194429 ],\n",
       "       [ 0.02025894,  1.57361936, -0.06379067,  0.70527335, -0.27446079,\n",
       "         1.37359339],\n",
       "       [ 0.02025894,  0.08203703,  1.4083017 , -1.54559904, -0.80227001,\n",
       "         0.62707524],\n",
       "       [ 0.02025894,  0.82782819, -0.06379067,  1.45556414, -0.80227001,\n",
       "         0.62707524],\n",
       "       [ 0.02025894,  1.57361936, -0.55448812,  2.20585493, -0.80227001,\n",
       "         2.12011154],\n",
       "       [-0.99268823,  0.08203703, -0.55448812, -0.79530824,  1.30896686,\n",
       "        -0.86596105],\n",
       "       [-1.49916182, -1.4095453 , -1.04518558, -0.79530824,  1.30896686,\n",
       "        -1.6124792 ],\n",
       "       [ 1.03320612,  0.08203703,  1.4083017 , -0.79530824, -0.80227001,\n",
       "        -0.86596105],\n",
       "       [ 1.03320612,  0.08203703,  1.4083017 , -0.04501745, -1.33007923,\n",
       "        -0.1194429 ],\n",
       "       [-0.48621464,  0.82782819, -0.55448812,  1.45556414,  0.25334843,\n",
       "         1.37359339],\n",
       "       [ 0.52673253, -0.66375414,  0.91760424, -0.79530824, -0.27446079,\n",
       "        -0.1194429 ],\n",
       "       [ 0.02025894,  1.57361936, -0.55448812,  2.20585493, -0.80227001,\n",
       "         2.12011154],\n",
       "       [ 1.03320612,  0.82782819, -0.06379067, -1.54559904, -1.33007923,\n",
       "        -0.1194429 ],\n",
       "       [-0.99268823, -1.4095453 , -1.53588304,  0.70527335,  0.25334843,\n",
       "        -0.1194429 ],\n",
       "       [ 1.5396797 , -0.66375414,  1.4083017 , -0.04501745, -1.33007923,\n",
       "        -0.1194429 ],\n",
       "       [-0.99268823,  0.08203703, -0.55448812, -0.79530824,  1.30896686,\n",
       "        -0.86596105],\n",
       "       [ 1.03320612,  0.82782819, -0.06379067, -1.54559904, -1.33007923,\n",
       "        -0.1194429 ],\n",
       "       [ 1.03320612,  0.08203703,  0.91760424, -0.79530824, -0.27446079,\n",
       "        -0.1194429 ],\n",
       "       [ 1.03320612, -1.4095453 ,  1.4083017 , -0.04501745, -1.33007923,\n",
       "        -0.86596105],\n",
       "       [-0.99268823, -1.4095453 , -1.53588304,  0.70527335,  0.25334843,\n",
       "        -0.1194429 ],\n",
       "       [ 1.03320612, -1.4095453 ,  1.4083017 , -0.04501745, -1.33007923,\n",
       "        -0.86596105],\n",
       "       [-0.99268823,  0.08203703, -0.55448812, -0.79530824,  1.30896686,\n",
       "        -0.86596105],\n",
       "       [ 0.52673253, -0.66375414,  0.91760424, -0.79530824, -0.27446079,\n",
       "        -0.1194429 ],\n",
       "       [ 1.5396797 , -0.66375414,  1.4083017 , -0.04501745, -1.33007923,\n",
       "        -0.1194429 ],\n",
       "       [ 1.5396797 , -1.4095453 ,  0.91760424, -0.04501745, -1.33007923,\n",
       "        -0.86596105],\n",
       "       [-0.99268823, -1.4095453 , -1.53588304,  0.70527335,  0.25334843,\n",
       "        -0.1194429 ],\n",
       "       [ 1.5396797 , -1.4095453 ,  0.91760424, -0.04501745, -1.33007923,\n",
       "        -0.86596105],\n",
       "       [ 0.02025894,  1.57361936, -0.06379067,  1.45556414,  0.25334843,\n",
       "         2.12011154],\n",
       "       [-1.49916182, -1.4095453 , -1.04518558, -0.79530824,  1.30896686,\n",
       "        -1.6124792 ],\n",
       "       [ 1.03320612, -0.66375414,  0.91760424, -0.04501745, -0.80227001,\n",
       "        -0.1194429 ],\n",
       "       [ 1.03320612, -1.4095453 ,  1.4083017 , -0.04501745, -1.33007923,\n",
       "        -0.86596105],\n",
       "       [-0.99268823, -0.66375414, -1.53588304, -0.04501745,  0.78115764,\n",
       "        -0.1194429 ],\n",
       "       [ 1.5396797 , -0.66375414,  0.91760424, -0.04501745, -0.80227001,\n",
       "        -0.1194429 ],\n",
       "       [-1.49916182, -1.4095453 , -1.04518558, -0.79530824,  1.30896686,\n",
       "        -1.6124792 ],\n",
       "       [ 1.03320612,  0.08203703,  0.91760424, -0.79530824, -0.27446079,\n",
       "        -0.1194429 ],\n",
       "       [ 0.02025894,  1.57361936, -0.06379067,  0.70527335, -0.27446079,\n",
       "         1.37359339],\n",
       "       [ 0.02025894,  0.82782819, -0.06379067,  1.45556414, -0.80227001,\n",
       "         0.62707524],\n",
       "       [-0.48621464,  0.82782819, -0.55448812,  1.45556414,  0.25334843,\n",
       "         1.37359339],\n",
       "       [-0.99268823,  1.57361936, -1.04518558,  1.45556414,  1.83677608,\n",
       "         1.37359339],\n",
       "       [-0.99268823, -0.66375414, -1.04518558, -0.04501745,  1.83677608,\n",
       "        -1.6124792 ],\n",
       "       [-0.99268823,  1.57361936, -1.04518558,  1.45556414,  1.83677608,\n",
       "         1.37359339],\n",
       "       [ 1.03320612,  0.08203703,  1.4083017 , -0.79530824, -0.80227001,\n",
       "        -0.86596105],\n",
       "       [-0.48621464,  0.82782819, -0.06379067,  1.45556414,  0.25334843,\n",
       "         2.12011154],\n",
       "       [ 1.5396797 , -0.66375414,  0.91760424, -0.04501745, -0.80227001,\n",
       "        -0.1194429 ],\n",
       "       [ 1.5396797 , -0.66375414,  1.4083017 , -0.04501745, -1.33007923,\n",
       "        -0.1194429 ],\n",
       "       [ 1.5396797 , -1.4095453 ,  0.91760424, -0.04501745, -1.33007923,\n",
       "        -0.86596105],\n",
       "       [ 0.52673253,  0.08203703,  0.42690679, -0.04501745, -0.80227001,\n",
       "        -0.1194429 ]])"
      ]
     },
     "execution_count": 52,
     "metadata": {},
     "output_type": "execute_result"
    }
   ],
   "source": [
    "myzdata"
   ]
  },
  {
   "cell_type": "code",
   "execution_count": 53,
   "id": "e4dbc88e",
   "metadata": {},
   "outputs": [],
   "source": [
    "myzdata = pd.DataFrame(myzdata,columns=mydata.columns)"
   ]
  },
  {
   "cell_type": "code",
   "execution_count": 54,
   "id": "06243d30",
   "metadata": {},
   "outputs": [
    {
     "data": {
      "text/html": [
       "<div>\n",
       "<style scoped>\n",
       "    .dataframe tbody tr th:only-of-type {\n",
       "        vertical-align: middle;\n",
       "    }\n",
       "\n",
       "    .dataframe tbody tr th {\n",
       "        vertical-align: top;\n",
       "    }\n",
       "\n",
       "    .dataframe thead th {\n",
       "        text-align: right;\n",
       "    }\n",
       "</style>\n",
       "<table border=\"1\" class=\"dataframe\">\n",
       "  <thead>\n",
       "    <tr style=\"text-align: right;\">\n",
       "      <th></th>\n",
       "      <th>x1</th>\n",
       "      <th>x2</th>\n",
       "      <th>x3</th>\n",
       "      <th>x4</th>\n",
       "      <th>x5</th>\n",
       "      <th>x6</th>\n",
       "    </tr>\n",
       "  </thead>\n",
       "  <tbody>\n",
       "    <tr>\n",
       "      <th>0</th>\n",
       "      <td>-0.486215</td>\n",
       "      <td>0.082037</td>\n",
       "      <td>-1.045186</td>\n",
       "      <td>-0.795308</td>\n",
       "      <td>1.308967</td>\n",
       "      <td>-0.865961</td>\n",
       "    </tr>\n",
       "    <tr>\n",
       "      <th>1</th>\n",
       "      <td>1.033206</td>\n",
       "      <td>0.082037</td>\n",
       "      <td>1.408302</td>\n",
       "      <td>-0.045017</td>\n",
       "      <td>-1.330079</td>\n",
       "      <td>-0.119443</td>\n",
       "    </tr>\n",
       "    <tr>\n",
       "      <th>2</th>\n",
       "      <td>0.020259</td>\n",
       "      <td>1.573619</td>\n",
       "      <td>-0.063791</td>\n",
       "      <td>0.705273</td>\n",
       "      <td>-0.274461</td>\n",
       "      <td>1.373593</td>\n",
       "    </tr>\n",
       "    <tr>\n",
       "      <th>3</th>\n",
       "      <td>-1.499162</td>\n",
       "      <td>-0.663754</td>\n",
       "      <td>-1.045186</td>\n",
       "      <td>-1.545599</td>\n",
       "      <td>1.308967</td>\n",
       "      <td>-0.119443</td>\n",
       "    </tr>\n",
       "    <tr>\n",
       "      <th>4</th>\n",
       "      <td>0.020259</td>\n",
       "      <td>1.573619</td>\n",
       "      <td>-0.063791</td>\n",
       "      <td>0.705273</td>\n",
       "      <td>-0.274461</td>\n",
       "      <td>1.373593</td>\n",
       "    </tr>\n",
       "  </tbody>\n",
       "</table>\n",
       "</div>"
      ],
      "text/plain": [
       "         x1        x2        x3        x4        x5        x6\n",
       "0 -0.486215  0.082037 -1.045186 -0.795308  1.308967 -0.865961\n",
       "1  1.033206  0.082037  1.408302 -0.045017 -1.330079 -0.119443\n",
       "2  0.020259  1.573619 -0.063791  0.705273 -0.274461  1.373593\n",
       "3 -1.499162 -0.663754 -1.045186 -1.545599  1.308967 -0.119443\n",
       "4  0.020259  1.573619 -0.063791  0.705273 -0.274461  1.373593"
      ]
     },
     "execution_count": 54,
     "metadata": {},
     "output_type": "execute_result"
    }
   ],
   "source": [
    "myzdata.head()"
   ]
  },
  {
   "cell_type": "code",
   "execution_count": 55,
   "id": "f21e7d12",
   "metadata": {},
   "outputs": [],
   "source": [
    "#Compute KMO statistic\n",
    "mykmo = kmo(myzdata)"
   ]
  },
  {
   "cell_type": "code",
   "execution_count": 56,
   "id": "f6a584dd",
   "metadata": {},
   "outputs": [
    {
     "data": {
      "text/plain": [
       "0.6618310518029493"
      ]
     },
     "execution_count": 56,
     "metadata": {},
     "output_type": "execute_result"
    }
   ],
   "source": [
    "mykmo\n",
    "mykmo[1]"
   ]
  },
  {
   "cell_type": "code",
   "execution_count": 57,
   "id": "49582933",
   "metadata": {},
   "outputs": [],
   "source": [
    "#KMO is greater than 0.5 so continue with Factor Analysis"
   ]
  },
  {
   "cell_type": "code",
   "execution_count": 58,
   "id": "5f07bb13",
   "metadata": {},
   "outputs": [],
   "source": [
    "#Bartletts test _ to see whether correlation is significant or not\n",
    "mytest=bartlett(myzdata)"
   ]
  },
  {
   "cell_type": "code",
   "execution_count": 59,
   "id": "e2d35c59",
   "metadata": {},
   "outputs": [
    {
     "data": {
      "text/plain": [
       "(421.24641161190704, 2.3534681972473516e-80)"
      ]
     },
     "execution_count": 59,
     "metadata": {},
     "output_type": "execute_result"
    }
   ],
   "source": [
    "mytest"
   ]
  },
  {
   "cell_type": "code",
   "execution_count": 60,
   "id": "776dc6c5",
   "metadata": {},
   "outputs": [
    {
     "data": {
      "text/plain": [
       "421.24641161190704"
      ]
     },
     "execution_count": 60,
     "metadata": {},
     "output_type": "execute_result"
    }
   ],
   "source": [
    "#Test statistic\n",
    "mytest[0]"
   ]
  },
  {
   "cell_type": "code",
   "execution_count": 61,
   "id": "31a7b031",
   "metadata": {},
   "outputs": [
    {
     "data": {
      "text/plain": [
       "2.3534681972473516e-80"
      ]
     },
     "execution_count": 61,
     "metadata": {},
     "output_type": "execute_result"
    }
   ],
   "source": [
    "#pvalue\n",
    "mytest[1]"
   ]
  },
  {
   "cell_type": "code",
   "execution_count": 62,
   "id": "0842993b",
   "metadata": {},
   "outputs": [],
   "source": [
    "#As pvalue less than 0.05 we aaccept the alternative hypothesis that Correlation matrix is not  Identity matrix\n"
   ]
  },
  {
   "cell_type": "code",
   "execution_count": 63,
   "id": "c4e477a8",
   "metadata": {},
   "outputs": [],
   "source": [
    "#Identification of factors\n",
    "mymodel=FactorAnalyzer(n_factors=6,rotation=None)"
   ]
  },
  {
   "cell_type": "code",
   "execution_count": 64,
   "id": "8c52b18c",
   "metadata": {},
   "outputs": [],
   "source": [
    "#Fit the model to data\n",
    "mymodel = mymodel.fit(myzdata)"
   ]
  },
  {
   "cell_type": "code",
   "execution_count": 65,
   "id": "625cbb85",
   "metadata": {},
   "outputs": [],
   "source": [
    "#Result \n",
    "myresult = mymodel.get_eigenvalues()"
   ]
  },
  {
   "cell_type": "code",
   "execution_count": 66,
   "id": "fc21c845",
   "metadata": {},
   "outputs": [
    {
     "data": {
      "text/plain": [
       "(array([2.77889479, 2.18900091, 0.44504631, 0.33278528, 0.17473992,\n",
       "        0.0795328 ]),\n",
       " array([ 2.68742736e+00,  1.92890102e+00,  1.77083247e-01,  1.04524683e-01,\n",
       "         1.88503080e-02, -1.43874534e-06]))"
      ]
     },
     "execution_count": 66,
     "metadata": {},
     "output_type": "execute_result"
    }
   ],
   "source": [
    "myresult"
   ]
  },
  {
   "cell_type": "code",
   "execution_count": 67,
   "id": "8ea98536",
   "metadata": {},
   "outputs": [],
   "source": [
    "#Eigen values\n",
    "eigen_values=myresult[0]"
   ]
  },
  {
   "cell_type": "code",
   "execution_count": 68,
   "id": "c80bfbbd",
   "metadata": {},
   "outputs": [],
   "source": [
    "eigen_values =pd.DataFrame(eigen_values,columns=['Variance'])"
   ]
  },
  {
   "cell_type": "raw",
   "id": "a8d492e4",
   "metadata": {},
   "source": []
  },
  {
   "cell_type": "code",
   "execution_count": 69,
   "id": "e264fd01",
   "metadata": {},
   "outputs": [
    {
     "data": {
      "text/html": [
       "<div>\n",
       "<style scoped>\n",
       "    .dataframe tbody tr th:only-of-type {\n",
       "        vertical-align: middle;\n",
       "    }\n",
       "\n",
       "    .dataframe tbody tr th {\n",
       "        vertical-align: top;\n",
       "    }\n",
       "\n",
       "    .dataframe thead th {\n",
       "        text-align: right;\n",
       "    }\n",
       "</style>\n",
       "<table border=\"1\" class=\"dataframe\">\n",
       "  <thead>\n",
       "    <tr style=\"text-align: right;\">\n",
       "      <th></th>\n",
       "      <th>Variance</th>\n",
       "    </tr>\n",
       "  </thead>\n",
       "  <tbody>\n",
       "    <tr>\n",
       "      <th>0</th>\n",
       "      <td>2.778895</td>\n",
       "    </tr>\n",
       "    <tr>\n",
       "      <th>1</th>\n",
       "      <td>2.189001</td>\n",
       "    </tr>\n",
       "    <tr>\n",
       "      <th>2</th>\n",
       "      <td>0.445046</td>\n",
       "    </tr>\n",
       "    <tr>\n",
       "      <th>3</th>\n",
       "      <td>0.332785</td>\n",
       "    </tr>\n",
       "    <tr>\n",
       "      <th>4</th>\n",
       "      <td>0.174740</td>\n",
       "    </tr>\n",
       "    <tr>\n",
       "      <th>5</th>\n",
       "      <td>0.079533</td>\n",
       "    </tr>\n",
       "  </tbody>\n",
       "</table>\n",
       "</div>"
      ],
      "text/plain": [
       "   Variance\n",
       "0  2.778895\n",
       "1  2.189001\n",
       "2  0.445046\n",
       "3  0.332785\n",
       "4  0.174740\n",
       "5  0.079533"
      ]
     },
     "execution_count": 69,
     "metadata": {},
     "output_type": "execute_result"
    }
   ],
   "source": [
    "eigen_values"
   ]
  },
  {
   "cell_type": "code",
   "execution_count": 70,
   "id": "26e64126",
   "metadata": {},
   "outputs": [],
   "source": [
    "#We need only 2 factors as variance greater than 1 2 cases\n"
   ]
  },
  {
   "cell_type": "code",
   "execution_count": 89,
   "id": "0e9451de",
   "metadata": {},
   "outputs": [],
   "source": [
    "eigen_values['var_per'] = eigen_values*100/(eigen_values).sum()"
   ]
  },
  {
   "cell_type": "code",
   "execution_count": 90,
   "id": "9f642360",
   "metadata": {},
   "outputs": [
    {
     "data": {
      "text/html": [
       "<div>\n",
       "<style scoped>\n",
       "    .dataframe tbody tr th:only-of-type {\n",
       "        vertical-align: middle;\n",
       "    }\n",
       "\n",
       "    .dataframe tbody tr th {\n",
       "        vertical-align: top;\n",
       "    }\n",
       "\n",
       "    .dataframe thead th {\n",
       "        text-align: right;\n",
       "    }\n",
       "</style>\n",
       "<table border=\"1\" class=\"dataframe\">\n",
       "  <thead>\n",
       "    <tr style=\"text-align: right;\">\n",
       "      <th></th>\n",
       "      <th>Variance</th>\n",
       "      <th>var_per</th>\n",
       "    </tr>\n",
       "  </thead>\n",
       "  <tbody>\n",
       "    <tr>\n",
       "      <th>0</th>\n",
       "      <td>2.778895</td>\n",
       "      <td>46.314913</td>\n",
       "    </tr>\n",
       "    <tr>\n",
       "      <th>1</th>\n",
       "      <td>2.189001</td>\n",
       "      <td>36.483348</td>\n",
       "    </tr>\n",
       "    <tr>\n",
       "      <th>2</th>\n",
       "      <td>0.445046</td>\n",
       "      <td>7.417438</td>\n",
       "    </tr>\n",
       "    <tr>\n",
       "      <th>3</th>\n",
       "      <td>0.332785</td>\n",
       "      <td>5.546421</td>\n",
       "    </tr>\n",
       "    <tr>\n",
       "      <th>4</th>\n",
       "      <td>0.174740</td>\n",
       "      <td>2.912332</td>\n",
       "    </tr>\n",
       "    <tr>\n",
       "      <th>5</th>\n",
       "      <td>0.079533</td>\n",
       "      <td>1.325547</td>\n",
       "    </tr>\n",
       "  </tbody>\n",
       "</table>\n",
       "</div>"
      ],
      "text/plain": [
       "   Variance    var_per\n",
       "0  2.778895  46.314913\n",
       "1  2.189001  36.483348\n",
       "2  0.445046   7.417438\n",
       "3  0.332785   5.546421\n",
       "4  0.174740   2.912332\n",
       "5  0.079533   1.325547"
      ]
     },
     "execution_count": 90,
     "metadata": {},
     "output_type": "execute_result"
    }
   ],
   "source": [
    "eigen_values"
   ]
  },
  {
   "cell_type": "code",
   "execution_count": 91,
   "id": "fe2c8ce7",
   "metadata": {},
   "outputs": [],
   "source": [
    "eigen_values['Cumm_var'] = var_per.cumsum()"
   ]
  },
  {
   "cell_type": "code",
   "execution_count": 92,
   "id": "b8e3c7d9",
   "metadata": {},
   "outputs": [
    {
     "data": {
      "text/html": [
       "<div>\n",
       "<style scoped>\n",
       "    .dataframe tbody tr th:only-of-type {\n",
       "        vertical-align: middle;\n",
       "    }\n",
       "\n",
       "    .dataframe tbody tr th {\n",
       "        vertical-align: top;\n",
       "    }\n",
       "\n",
       "    .dataframe thead th {\n",
       "        text-align: right;\n",
       "    }\n",
       "</style>\n",
       "<table border=\"1\" class=\"dataframe\">\n",
       "  <thead>\n",
       "    <tr style=\"text-align: right;\">\n",
       "      <th></th>\n",
       "      <th>Variance</th>\n",
       "      <th>var_per</th>\n",
       "      <th>Cumm_var</th>\n",
       "    </tr>\n",
       "  </thead>\n",
       "  <tbody>\n",
       "    <tr>\n",
       "      <th>0</th>\n",
       "      <td>2.778895</td>\n",
       "      <td>46.314913</td>\n",
       "      <td>46.314913</td>\n",
       "    </tr>\n",
       "    <tr>\n",
       "      <th>1</th>\n",
       "      <td>2.189001</td>\n",
       "      <td>36.483348</td>\n",
       "      <td>82.798262</td>\n",
       "    </tr>\n",
       "    <tr>\n",
       "      <th>2</th>\n",
       "      <td>0.445046</td>\n",
       "      <td>7.417438</td>\n",
       "      <td>90.215700</td>\n",
       "    </tr>\n",
       "    <tr>\n",
       "      <th>3</th>\n",
       "      <td>0.332785</td>\n",
       "      <td>5.546421</td>\n",
       "      <td>95.762121</td>\n",
       "    </tr>\n",
       "    <tr>\n",
       "      <th>4</th>\n",
       "      <td>0.174740</td>\n",
       "      <td>2.912332</td>\n",
       "      <td>98.674453</td>\n",
       "    </tr>\n",
       "    <tr>\n",
       "      <th>5</th>\n",
       "      <td>0.079533</td>\n",
       "      <td>1.325547</td>\n",
       "      <td>100.000000</td>\n",
       "    </tr>\n",
       "  </tbody>\n",
       "</table>\n",
       "</div>"
      ],
      "text/plain": [
       "   Variance    var_per    Cumm_var\n",
       "0  2.778895  46.314913   46.314913\n",
       "1  2.189001  36.483348   82.798262\n",
       "2  0.445046   7.417438   90.215700\n",
       "3  0.332785   5.546421   95.762121\n",
       "4  0.174740   2.912332   98.674453\n",
       "5  0.079533   1.325547  100.000000"
      ]
     },
     "execution_count": 92,
     "metadata": {},
     "output_type": "execute_result"
    }
   ],
   "source": [
    "eigen_values"
   ]
  },
  {
   "cell_type": "code",
   "execution_count": 86,
   "id": "8beba81c",
   "metadata": {},
   "outputs": [],
   "source": [
    "myVarianceTable = mymodel.get_factor_variance()"
   ]
  },
  {
   "cell_type": "code",
   "execution_count": 87,
   "id": "efd02267",
   "metadata": {},
   "outputs": [],
   "source": [
    "myVarianceTable=pd.DataFrame(myVarianceTable)"
   ]
  },
  {
   "cell_type": "code",
   "execution_count": 88,
   "id": "6a970bb4",
   "metadata": {},
   "outputs": [
    {
     "data": {
      "text/html": [
       "<div>\n",
       "<style scoped>\n",
       "    .dataframe tbody tr th:only-of-type {\n",
       "        vertical-align: middle;\n",
       "    }\n",
       "\n",
       "    .dataframe tbody tr th {\n",
       "        vertical-align: top;\n",
       "    }\n",
       "\n",
       "    .dataframe thead th {\n",
       "        text-align: right;\n",
       "    }\n",
       "</style>\n",
       "<table border=\"1\" class=\"dataframe\">\n",
       "  <thead>\n",
       "    <tr style=\"text-align: right;\">\n",
       "      <th></th>\n",
       "      <th>0</th>\n",
       "      <th>1</th>\n",
       "      <th>2</th>\n",
       "      <th>3</th>\n",
       "      <th>4</th>\n",
       "      <th>5</th>\n",
       "    </tr>\n",
       "  </thead>\n",
       "  <tbody>\n",
       "    <tr>\n",
       "      <th>0</th>\n",
       "      <td>2.687427</td>\n",
       "      <td>1.928901</td>\n",
       "      <td>0.177083</td>\n",
       "      <td>0.104524</td>\n",
       "      <td>0.018850</td>\n",
       "      <td>0.000000</td>\n",
       "    </tr>\n",
       "    <tr>\n",
       "      <th>1</th>\n",
       "      <td>0.447905</td>\n",
       "      <td>0.321483</td>\n",
       "      <td>0.029514</td>\n",
       "      <td>0.017421</td>\n",
       "      <td>0.003142</td>\n",
       "      <td>0.000000</td>\n",
       "    </tr>\n",
       "    <tr>\n",
       "      <th>2</th>\n",
       "      <td>0.447905</td>\n",
       "      <td>0.769388</td>\n",
       "      <td>0.798902</td>\n",
       "      <td>0.816323</td>\n",
       "      <td>0.819464</td>\n",
       "      <td>0.819464</td>\n",
       "    </tr>\n",
       "  </tbody>\n",
       "</table>\n",
       "</div>"
      ],
      "text/plain": [
       "          0         1         2         3         4         5\n",
       "0  2.687427  1.928901  0.177083  0.104524  0.018850  0.000000\n",
       "1  0.447905  0.321483  0.029514  0.017421  0.003142  0.000000\n",
       "2  0.447905  0.769388  0.798902  0.816323  0.819464  0.819464"
      ]
     },
     "execution_count": 88,
     "metadata": {},
     "output_type": "execute_result"
    }
   ],
   "source": [
    "myVarianceTable"
   ]
  },
  {
   "cell_type": "code",
   "execution_count": 101,
   "id": "8f2719da",
   "metadata": {},
   "outputs": [
    {
     "data": {
      "image/png": "[encoded data removed]",
      "text/plain": [
       "<Figure size 640x480 with 1 Axes>"
      ]
     },
     "metadata": {},
     "output_type": "display_data"
    }
   ],
   "source": [
    "#Scree plot\n",
    "k = range(1,7)\n",
    "plt.scatter(k,eigen_values['Variance'])\n",
    "plt.plot(k,eigen_values['Variance'])\n",
    "plt.title('Scree plot')\n",
    "plt.xlabel('No of factors')\n",
    "plt.ylabel('VAriance')\n",
    "plt.grid()\n"
   ]
  },
  {
   "cell_type": "code",
   "execution_count": null,
   "id": "e74186ed",
   "metadata": {},
   "outputs": [],
   "source": [
    "# So optimum no of factors is 2 from 3 methods\n"
   ]
  },
  {
   "cell_type": "code",
   "execution_count": 102,
   "id": "781fd494",
   "metadata": {},
   "outputs": [],
   "source": [
    "#Final Analysis\n",
    "mymodel=FactorAnalyzer(n_factors=2,rotation='varimax')"
   ]
  },
  {
   "cell_type": "code",
   "execution_count": 103,
   "id": "99281ece",
   "metadata": {},
   "outputs": [],
   "source": [
    "#Fit the model to data\n",
    "mymodel=mymodel.fit(myzdata)"
   ]
  },
  {
   "cell_type": "code",
   "execution_count": 104,
   "id": "a2d4ec08",
   "metadata": {},
   "outputs": [],
   "source": [
    "#Factor Loadings\n",
    "myloadings = mymodel.loadings_"
   ]
  },
  {
   "cell_type": "code",
   "execution_count": 105,
   "id": "fe77c7f0",
   "metadata": {},
   "outputs": [
    {
     "data": {
      "text/plain": [
       "array([[ 0.96980324, -0.0448893 ],\n",
       "       [-0.06780193,  0.75198874],\n",
       "       [ 0.90078685, -0.15895254],\n",
       "       [-0.07567655,  0.76518977],\n",
       "       [-0.88942196, -0.05024372],\n",
       "       [ 0.0549727 ,  0.8546576 ]])"
      ]
     },
     "execution_count": 105,
     "metadata": {},
     "output_type": "execute_result"
    }
   ],
   "source": [
    "myloadings"
   ]
  },
  {
   "cell_type": "code",
   "execution_count": 106,
   "id": "ecb5a9a7",
   "metadata": {},
   "outputs": [],
   "source": [
    "myloadings=pd.DataFrame(myloadings)"
   ]
  },
  {
   "cell_type": "code",
   "execution_count": 107,
   "id": "d68f9c3c",
   "metadata": {},
   "outputs": [
    {
     "data": {
      "text/html": [
       "<div>\n",
       "<style scoped>\n",
       "    .dataframe tbody tr th:only-of-type {\n",
       "        vertical-align: middle;\n",
       "    }\n",
       "\n",
       "    .dataframe tbody tr th {\n",
       "        vertical-align: top;\n",
       "    }\n",
       "\n",
       "    .dataframe thead th {\n",
       "        text-align: right;\n",
       "    }\n",
       "</style>\n",
       "<table border=\"1\" class=\"dataframe\">\n",
       "  <thead>\n",
       "    <tr style=\"text-align: right;\">\n",
       "      <th></th>\n",
       "      <th>0</th>\n",
       "      <th>1</th>\n",
       "    </tr>\n",
       "  </thead>\n",
       "  <tbody>\n",
       "    <tr>\n",
       "      <th>0</th>\n",
       "      <td>0.969803</td>\n",
       "      <td>-0.044889</td>\n",
       "    </tr>\n",
       "    <tr>\n",
       "      <th>1</th>\n",
       "      <td>-0.067802</td>\n",
       "      <td>0.751989</td>\n",
       "    </tr>\n",
       "    <tr>\n",
       "      <th>2</th>\n",
       "      <td>0.900787</td>\n",
       "      <td>-0.158953</td>\n",
       "    </tr>\n",
       "    <tr>\n",
       "      <th>3</th>\n",
       "      <td>-0.075677</td>\n",
       "      <td>0.765190</td>\n",
       "    </tr>\n",
       "    <tr>\n",
       "      <th>4</th>\n",
       "      <td>-0.889422</td>\n",
       "      <td>-0.050244</td>\n",
       "    </tr>\n",
       "    <tr>\n",
       "      <th>5</th>\n",
       "      <td>0.054973</td>\n",
       "      <td>0.854658</td>\n",
       "    </tr>\n",
       "  </tbody>\n",
       "</table>\n",
       "</div>"
      ],
      "text/plain": [
       "          0         1\n",
       "0  0.969803 -0.044889\n",
       "1 -0.067802  0.751989\n",
       "2  0.900787 -0.158953\n",
       "3 -0.075677  0.765190\n",
       "4 -0.889422 -0.050244\n",
       "5  0.054973  0.854658"
      ]
     },
     "execution_count": 107,
     "metadata": {},
     "output_type": "execute_result"
    }
   ],
   "source": [
    "myloadings"
   ]
  },
  {
   "cell_type": "code",
   "execution_count": 108,
   "id": "a5b69dba",
   "metadata": {},
   "outputs": [],
   "source": [
    "#Factor Scores\n",
    "myscores= mymodel.fit_transform(myzdata)"
   ]
  },
  {
   "cell_type": "code",
   "execution_count": 109,
   "id": "d97aa853",
   "metadata": {},
   "outputs": [],
   "source": [
    "myscores=pd.DataFrame(myscores)"
   ]
  },
  {
   "cell_type": "code",
   "execution_count": 110,
   "id": "4b7390aa",
   "metadata": {},
   "outputs": [
    {
     "data": {
      "text/html": [
       "<div>\n",
       "<style scoped>\n",
       "    .dataframe tbody tr th:only-of-type {\n",
       "        vertical-align: middle;\n",
       "    }\n",
       "\n",
       "    .dataframe tbody tr th {\n",
       "        vertical-align: top;\n",
       "    }\n",
       "\n",
       "    .dataframe thead th {\n",
       "        text-align: right;\n",
       "    }\n",
       "</style>\n",
       "<table border=\"1\" class=\"dataframe\">\n",
       "  <thead>\n",
       "    <tr style=\"text-align: right;\">\n",
       "      <th></th>\n",
       "      <th>0</th>\n",
       "      <th>1</th>\n",
       "    </tr>\n",
       "  </thead>\n",
       "  <tbody>\n",
       "    <tr>\n",
       "      <th>0</th>\n",
       "      <td>-0.772701</td>\n",
       "      <td>-0.567784</td>\n",
       "    </tr>\n",
       "    <tr>\n",
       "      <th>1</th>\n",
       "      <td>1.137412</td>\n",
       "      <td>-0.107893</td>\n",
       "    </tr>\n",
       "    <tr>\n",
       "      <th>2</th>\n",
       "      <td>0.121952</td>\n",
       "      <td>1.314105</td>\n",
       "    </tr>\n",
       "    <tr>\n",
       "      <th>3</th>\n",
       "      <td>-1.361831</td>\n",
       "      <td>-0.685627</td>\n",
       "    </tr>\n",
       "    <tr>\n",
       "      <th>4</th>\n",
       "      <td>0.121952</td>\n",
       "      <td>1.314105</td>\n",
       "    </tr>\n",
       "    <tr>\n",
       "      <th>...</th>\n",
       "      <td>...</td>\n",
       "      <td>...</td>\n",
       "    </tr>\n",
       "    <tr>\n",
       "      <th>95</th>\n",
       "      <td>-0.232620</td>\n",
       "      <td>1.614690</td>\n",
       "    </tr>\n",
       "    <tr>\n",
       "      <th>96</th>\n",
       "      <td>1.342513</td>\n",
       "      <td>-0.177168</td>\n",
       "    </tr>\n",
       "    <tr>\n",
       "      <th>97</th>\n",
       "      <td>1.504196</td>\n",
       "      <td>-0.236853</td>\n",
       "    </tr>\n",
       "    <tr>\n",
       "      <th>98</th>\n",
       "      <td>1.363594</td>\n",
       "      <td>-0.727159</td>\n",
       "    </tr>\n",
       "    <tr>\n",
       "      <th>99</th>\n",
       "      <td>0.541235</td>\n",
       "      <td>-0.024837</td>\n",
       "    </tr>\n",
       "  </tbody>\n",
       "</table>\n",
       "<p>100 rows × 2 columns</p>\n",
       "</div>"
      ],
      "text/plain": [
       "           0         1\n",
       "0  -0.772701 -0.567784\n",
       "1   1.137412 -0.107893\n",
       "2   0.121952  1.314105\n",
       "3  -1.361831 -0.685627\n",
       "4   0.121952  1.314105\n",
       "..       ...       ...\n",
       "95 -0.232620  1.614690\n",
       "96  1.342513 -0.177168\n",
       "97  1.504196 -0.236853\n",
       "98  1.363594 -0.727159\n",
       "99  0.541235 -0.024837\n",
       "\n",
       "[100 rows x 2 columns]"
      ]
     },
     "execution_count": 110,
     "metadata": {},
     "output_type": "execute_result"
    }
   ],
   "source": [
    "myscores"
   ]
  },
  {
   "cell_type": "code",
   "execution_count": null,
   "id": "449abe7e",
   "metadata": {},
   "outputs": [],
   "source": []
  }
 ],
 "metadata": {
  "kernelspec": {
   "display_name": "Python 3 (ipykernel)",
   "language": "python",
   "name": "python3"
  },
  "language_info": {
   "codemirror_mode": {
    "name": "ipython",
    "version": 3
   },
   "file_extension": ".py",
   "mimetype": "text/x-python",
   "name": "python",
   "nbconvert_exporter": "python",
   "pygments_lexer": "ipython3",
   "version": "3.11.4"
  }
 },
 "nbformat": 4,
 "nbformat_minor": 5
}
