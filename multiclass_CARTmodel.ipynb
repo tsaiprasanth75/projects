{
 "cells": [
  {
   "cell_type": "code",
   "execution_count": 1,
   "id": "031ba755",
   "metadata": {},
   "outputs": [],
   "source": [
    "#import packages\n",
    "import pandas as pd\n",
    "from sklearn import tree\n",
    "from sklearn.model_selection import train_test_split\n",
    "from sklearn.model_selection import GridSearchCV"
   ]
  },
  {
   "cell_type": "code",
   "execution_count": 5,
   "id": "0750692f",
   "metadata": {},
   "outputs": [],
   "source": [
    "#import the dataset\n",
    "mydata=pd.read_csv(r'C:\\Users\\SRINJOY\\Downloads\\bank-data_python.csv')"
   ]
  },
  {
   "cell_type": "code",
   "execution_count": 6,
   "id": "195f8c6b",
   "metadata": {},
   "outputs": [
    {
     "data": {
      "text/html": [
       "<div>\n",
       "<style scoped>\n",
       "    .dataframe tbody tr th:only-of-type {\n",
       "        vertical-align: middle;\n",
       "    }\n",
       "\n",
       "    .dataframe tbody tr th {\n",
       "        vertical-align: top;\n",
       "    }\n",
       "\n",
       "    .dataframe thead th {\n",
       "        text-align: right;\n",
       "    }\n",
       "</style>\n",
       "<table border=\"1\" class=\"dataframe\">\n",
       "  <thead>\n",
       "    <tr style=\"text-align: right;\">\n",
       "      <th></th>\n",
       "      <th>age</th>\n",
       "      <th>sex</th>\n",
       "      <th>region</th>\n",
       "      <th>income</th>\n",
       "      <th>married</th>\n",
       "      <th>children</th>\n",
       "      <th>car</th>\n",
       "      <th>save_act</th>\n",
       "      <th>current_act</th>\n",
       "      <th>mortgage</th>\n",
       "      <th>pep</th>\n",
       "    </tr>\n",
       "  </thead>\n",
       "  <tbody>\n",
       "    <tr>\n",
       "      <th>0</th>\n",
       "      <td>48</td>\n",
       "      <td>1</td>\n",
       "      <td>0</td>\n",
       "      <td>17546.0</td>\n",
       "      <td>0</td>\n",
       "      <td>1</td>\n",
       "      <td>0</td>\n",
       "      <td>0</td>\n",
       "      <td>0</td>\n",
       "      <td>0</td>\n",
       "      <td>1</td>\n",
       "    </tr>\n",
       "    <tr>\n",
       "      <th>1</th>\n",
       "      <td>40</td>\n",
       "      <td>0</td>\n",
       "      <td>3</td>\n",
       "      <td>30085.1</td>\n",
       "      <td>1</td>\n",
       "      <td>3</td>\n",
       "      <td>1</td>\n",
       "      <td>0</td>\n",
       "      <td>1</td>\n",
       "      <td>1</td>\n",
       "      <td>0</td>\n",
       "    </tr>\n",
       "    <tr>\n",
       "      <th>2</th>\n",
       "      <td>51</td>\n",
       "      <td>1</td>\n",
       "      <td>0</td>\n",
       "      <td>16575.4</td>\n",
       "      <td>1</td>\n",
       "      <td>0</td>\n",
       "      <td>1</td>\n",
       "      <td>1</td>\n",
       "      <td>1</td>\n",
       "      <td>0</td>\n",
       "      <td>0</td>\n",
       "    </tr>\n",
       "    <tr>\n",
       "      <th>3</th>\n",
       "      <td>23</td>\n",
       "      <td>1</td>\n",
       "      <td>3</td>\n",
       "      <td>20375.4</td>\n",
       "      <td>1</td>\n",
       "      <td>3</td>\n",
       "      <td>0</td>\n",
       "      <td>0</td>\n",
       "      <td>1</td>\n",
       "      <td>0</td>\n",
       "      <td>0</td>\n",
       "    </tr>\n",
       "    <tr>\n",
       "      <th>4</th>\n",
       "      <td>57</td>\n",
       "      <td>1</td>\n",
       "      <td>1</td>\n",
       "      <td>50576.3</td>\n",
       "      <td>1</td>\n",
       "      <td>0</td>\n",
       "      <td>0</td>\n",
       "      <td>1</td>\n",
       "      <td>0</td>\n",
       "      <td>0</td>\n",
       "      <td>0</td>\n",
       "    </tr>\n",
       "  </tbody>\n",
       "</table>\n",
       "</div>"
      ],
      "text/plain": [
       "   age  sex  region   income  married  children  car  save_act  current_act  \\\n",
       "0   48    1       0  17546.0        0         1    0         0            0   \n",
       "1   40    0       3  30085.1        1         3    1         0            1   \n",
       "2   51    1       0  16575.4        1         0    1         1            1   \n",
       "3   23    1       3  20375.4        1         3    0         0            1   \n",
       "4   57    1       1  50576.3        1         0    0         1            0   \n",
       "\n",
       "   mortgage  pep  \n",
       "0         0    1  \n",
       "1         1    0  \n",
       "2         0    0  \n",
       "3         0    0  \n",
       "4         0    0  "
      ]
     },
     "execution_count": 6,
     "metadata": {},
     "output_type": "execute_result"
    }
   ],
   "source": [
    "mydata.head()"
   ]
  },
  {
   "cell_type": "code",
   "execution_count": 7,
   "id": "380d8f39",
   "metadata": {},
   "outputs": [],
   "source": [
    "x=mydata.iloc[:,:10]\n",
    "y=mydata.pep"
   ]
  },
  {
   "cell_type": "code",
   "execution_count": 17,
   "id": "382dacb8",
   "metadata": {},
   "outputs": [],
   "source": [
    "xtrain,xtest,ytrain,ytest=train_test_split(x,y,test_size=0.2,random_state=42)"
   ]
  },
  {
   "cell_type": "code",
   "execution_count": 18,
   "id": "8cf306c4",
   "metadata": {},
   "outputs": [
    {
     "data": {
      "text/plain": [
       "(600, 480, 120)"
      ]
     },
     "execution_count": 18,
     "metadata": {},
     "output_type": "execute_result"
    }
   ],
   "source": [
    "y.count(),ytrain.count(),ytest.count()"
   ]
  },
  {
   "cell_type": "code",
   "execution_count": 19,
   "id": "f5539174",
   "metadata": {},
   "outputs": [],
   "source": [
    "#develop the model\n",
    "mymodel=tree.DecisionTreeClassifier()"
   ]
  },
  {
   "cell_type": "code",
   "execution_count": 20,
   "id": "ad6645b1",
   "metadata": {},
   "outputs": [],
   "source": [
    "#hyper parameter tuning\n",
    "#create parameter grid\n",
    "myparamgrid=[{'criterion':['gini','entropy'],'min_samples_split':[2,5,10,25,40,50]}]"
   ]
  },
  {
   "cell_type": "code",
   "execution_count": 21,
   "id": "813b0203",
   "metadata": {},
   "outputs": [
    {
     "data": {
      "text/plain": [
       "{'criterion': 'gini', 'min_samples_split': 10}"
      ]
     },
     "execution_count": 21,
     "metadata": {},
     "output_type": "execute_result"
    }
   ],
   "source": [
    "#set up the search\n",
    "mysearch=GridSearchCV(mymodel,param_grid=myparamgrid,scoring='accuracy',cv=10).fit(xtrain,ytrain)\n",
    "mysearch.best_params_"
   ]
  },
  {
   "cell_type": "code",
   "execution_count": 22,
   "id": "ff7f512e",
   "metadata": {},
   "outputs": [],
   "source": [
    "#develop the optimum model\n",
    "mymodel=tree.DecisionTreeClassifier(criterion='gini',min_samples_split=10).fit(xtrain,ytrain)"
   ]
  },
  {
   "cell_type": "code",
   "execution_count": 23,
   "id": "2292d952",
   "metadata": {},
   "outputs": [
    {
     "data": {
      "text/plain": [
       "94.583"
      ]
     },
     "execution_count": 23,
     "metadata": {},
     "output_type": "execute_result"
    }
   ],
   "source": [
    "accuracy=mymodel.score(xtrain,ytrain)\n",
    "round(accuracy*100,3)"
   ]
  },
  {
   "cell_type": "code",
   "execution_count": 24,
   "id": "a23c1cac",
   "metadata": {},
   "outputs": [
    {
     "data": {
      "text/plain": [
       "85.0"
      ]
     },
     "execution_count": 24,
     "metadata": {},
     "output_type": "execute_result"
    }
   ],
   "source": [
    "test_accuracy=mymodel.score(xtest,ytest)\n",
    "round(test_accuracy*100,3)"
   ]
  },
  {
   "cell_type": "code",
   "execution_count": 26,
   "id": "1686246c",
   "metadata": {},
   "outputs": [
    {
     "name": "stdout",
     "output_type": "stream",
     "text": [
      "|--- income <= 29669.75\n",
      "|   |--- children <= 1.50\n",
      "|   |   |--- children <= 0.50\n",
      "|   |   |   |--- married <= 0.50\n",
      "|   |   |   |   |--- mortgage <= 0.50\n",
      "|   |   |   |   |   |--- age <= 36.50\n",
      "|   |   |   |   |   |   |--- class: 1\n",
      "|   |   |   |   |   |--- age >  36.50\n",
      "|   |   |   |   |   |   |--- income <= 18943.10\n",
      "|   |   |   |   |   |   |   |--- class: 0\n",
      "|   |   |   |   |   |   |--- income >  18943.10\n",
      "|   |   |   |   |   |   |   |--- class: 1\n",
      "|   |   |   |   |--- mortgage >  0.50\n",
      "|   |   |   |   |   |--- save_act <= 0.50\n",
      "|   |   |   |   |   |   |--- class: 1\n",
      "|   |   |   |   |   |--- save_act >  0.50\n",
      "|   |   |   |   |   |   |--- class: 0\n",
      "|   |   |   |--- married >  0.50\n",
      "|   |   |   |   |--- mortgage <= 0.50\n",
      "|   |   |   |   |   |--- age <= 59.00\n",
      "|   |   |   |   |   |   |--- income <= 19164.50\n",
      "|   |   |   |   |   |   |   |--- income <= 14388.55\n",
      "|   |   |   |   |   |   |   |   |--- class: 0\n",
      "|   |   |   |   |   |   |   |--- income >  14388.55\n",
      "|   |   |   |   |   |   |   |   |--- income <= 15126.60\n",
      "|   |   |   |   |   |   |   |   |   |--- class: 1\n",
      "|   |   |   |   |   |   |   |   |--- income >  15126.60\n",
      "|   |   |   |   |   |   |   |   |   |--- income <= 18708.25\n",
      "|   |   |   |   |   |   |   |   |   |   |--- income <= 16747.95\n",
      "|   |   |   |   |   |   |   |   |   |   |   |--- truncated branch of depth 2\n",
      "|   |   |   |   |   |   |   |   |   |   |--- income >  16747.95\n",
      "|   |   |   |   |   |   |   |   |   |   |   |--- class: 0\n",
      "|   |   |   |   |   |   |   |   |   |--- income >  18708.25\n",
      "|   |   |   |   |   |   |   |   |   |   |--- class: 1\n",
      "|   |   |   |   |   |   |--- income >  19164.50\n",
      "|   |   |   |   |   |   |   |--- age <= 29.50\n",
      "|   |   |   |   |   |   |   |   |--- class: 0\n",
      "|   |   |   |   |   |   |   |--- age >  29.50\n",
      "|   |   |   |   |   |   |   |   |--- class: 0\n",
      "|   |   |   |   |   |--- age >  59.00\n",
      "|   |   |   |   |   |   |--- class: 1\n",
      "|   |   |   |   |--- mortgage >  0.50\n",
      "|   |   |   |   |   |--- save_act <= 0.50\n",
      "|   |   |   |   |   |   |--- region <= 2.50\n",
      "|   |   |   |   |   |   |   |--- class: 1\n",
      "|   |   |   |   |   |   |--- region >  2.50\n",
      "|   |   |   |   |   |   |   |--- class: 0\n",
      "|   |   |   |   |   |--- save_act >  0.50\n",
      "|   |   |   |   |   |   |--- age <= 43.00\n",
      "|   |   |   |   |   |   |   |--- class: 0\n",
      "|   |   |   |   |   |   |--- age >  43.00\n",
      "|   |   |   |   |   |   |   |--- class: 0\n",
      "|   |   |--- children >  0.50\n",
      "|   |   |   |--- income <= 15155.85\n",
      "|   |   |   |   |--- age <= 44.50\n",
      "|   |   |   |   |   |--- income <= 12649.00\n",
      "|   |   |   |   |   |   |--- class: 0\n",
      "|   |   |   |   |   |--- income >  12649.00\n",
      "|   |   |   |   |   |   |--- class: 0\n",
      "|   |   |   |   |--- age >  44.50\n",
      "|   |   |   |   |   |--- class: 1\n",
      "|   |   |   |--- income >  15155.85\n",
      "|   |   |   |   |--- age <= 55.00\n",
      "|   |   |   |   |   |--- income <= 28925.85\n",
      "|   |   |   |   |   |   |--- income <= 17274.65\n",
      "|   |   |   |   |   |   |   |--- class: 1\n",
      "|   |   |   |   |   |   |--- income >  17274.65\n",
      "|   |   |   |   |   |   |   |--- class: 1\n",
      "|   |   |   |   |   |--- income >  28925.85\n",
      "|   |   |   |   |   |   |--- class: 0\n",
      "|   |   |   |   |--- age >  55.00\n",
      "|   |   |   |   |   |--- class: 0\n",
      "|   |--- children >  1.50\n",
      "|   |   |--- income <= 13939.55\n",
      "|   |   |   |--- income <= 12746.90\n",
      "|   |   |   |   |--- age <= 36.50\n",
      "|   |   |   |   |   |--- sex <= 0.50\n",
      "|   |   |   |   |   |   |--- class: 0\n",
      "|   |   |   |   |   |--- sex >  0.50\n",
      "|   |   |   |   |   |   |--- class: 0\n",
      "|   |   |   |   |--- age >  36.50\n",
      "|   |   |   |   |   |--- class: 1\n",
      "|   |   |   |--- income >  12746.90\n",
      "|   |   |   |   |--- class: 1\n",
      "|   |   |--- income >  13939.55\n",
      "|   |   |   |--- age <= 33.50\n",
      "|   |   |   |   |--- age <= 32.50\n",
      "|   |   |   |   |   |--- current_act <= 0.50\n",
      "|   |   |   |   |   |   |--- class: 0\n",
      "|   |   |   |   |   |--- current_act >  0.50\n",
      "|   |   |   |   |   |   |--- class: 0\n",
      "|   |   |   |   |--- age >  32.50\n",
      "|   |   |   |   |   |--- class: 1\n",
      "|   |   |   |--- age >  33.50\n",
      "|   |   |   |   |--- age <= 49.50\n",
      "|   |   |   |   |   |--- class: 0\n",
      "|   |   |   |   |--- age >  49.50\n",
      "|   |   |   |   |   |--- married <= 0.50\n",
      "|   |   |   |   |   |   |--- class: 0\n",
      "|   |   |   |   |   |--- married >  0.50\n",
      "|   |   |   |   |   |   |--- class: 0\n",
      "|--- income >  29669.75\n",
      "|   |--- children <= 0.50\n",
      "|   |   |--- married <= 0.50\n",
      "|   |   |   |--- mortgage <= 0.50\n",
      "|   |   |   |   |--- class: 1\n",
      "|   |   |   |--- mortgage >  0.50\n",
      "|   |   |   |   |--- save_act <= 0.50\n",
      "|   |   |   |   |   |--- class: 1\n",
      "|   |   |   |   |--- save_act >  0.50\n",
      "|   |   |   |   |   |--- class: 0\n",
      "|   |   |--- married >  0.50\n",
      "|   |   |   |--- income <= 30301.40\n",
      "|   |   |   |   |--- class: 1\n",
      "|   |   |   |--- income >  30301.40\n",
      "|   |   |   |   |--- current_act <= 0.50\n",
      "|   |   |   |   |   |--- income <= 50890.25\n",
      "|   |   |   |   |   |   |--- region <= 2.50\n",
      "|   |   |   |   |   |   |   |--- age <= 45.00\n",
      "|   |   |   |   |   |   |   |   |--- class: 0\n",
      "|   |   |   |   |   |   |   |--- age >  45.00\n",
      "|   |   |   |   |   |   |   |   |--- class: 0\n",
      "|   |   |   |   |   |   |--- region >  2.50\n",
      "|   |   |   |   |   |   |   |--- class: 1\n",
      "|   |   |   |   |   |--- income >  50890.25\n",
      "|   |   |   |   |   |   |--- class: 1\n",
      "|   |   |   |   |--- current_act >  0.50\n",
      "|   |   |   |   |   |--- class: 0\n",
      "|   |--- children >  0.50\n",
      "|   |   |--- children <= 2.50\n",
      "|   |   |   |--- region <= 1.50\n",
      "|   |   |   |   |--- age <= 46.50\n",
      "|   |   |   |   |   |--- class: 1\n",
      "|   |   |   |   |--- age >  46.50\n",
      "|   |   |   |   |   |--- income <= 44079.05\n",
      "|   |   |   |   |   |   |--- income <= 42351.60\n",
      "|   |   |   |   |   |   |   |--- mortgage <= 0.50\n",
      "|   |   |   |   |   |   |   |   |--- class: 1\n",
      "|   |   |   |   |   |   |   |--- mortgage >  0.50\n",
      "|   |   |   |   |   |   |   |   |--- class: 0\n",
      "|   |   |   |   |   |   |--- income >  42351.60\n",
      "|   |   |   |   |   |   |   |--- class: 0\n",
      "|   |   |   |   |   |--- income >  44079.05\n",
      "|   |   |   |   |   |   |--- class: 1\n",
      "|   |   |   |--- region >  1.50\n",
      "|   |   |   |   |--- class: 1\n",
      "|   |   |--- children >  2.50\n",
      "|   |   |   |--- income <= 43320.70\n",
      "|   |   |   |   |--- region <= 1.50\n",
      "|   |   |   |   |   |--- class: 0\n",
      "|   |   |   |   |--- region >  1.50\n",
      "|   |   |   |   |   |--- class: 0\n",
      "|   |   |   |--- income >  43320.70\n",
      "|   |   |   |   |--- class: 1\n",
      "\n"
     ]
    }
   ],
   "source": [
    "myrules=tree.export_text(mymodel,feature_names=['age','sex','region','income','married','children','car','save_act','current_act','mortgage'])\n",
    "print(myrules)"
   ]
  },
  {
   "cell_type": "code",
   "execution_count": null,
   "id": "e373c074",
   "metadata": {},
   "outputs": [],
   "source": []
  }
 ],
 "metadata": {
  "kernelspec": {
   "display_name": "Python 3 (ipykernel)",
   "language": "python",
   "name": "python3"
  },
  "language_info": {
   "codemirror_mode": {
    "name": "ipython",
    "version": 3
   },
   "file_extension": ".py",
   "mimetype": "text/x-python",
   "name": "python",
   "nbconvert_exporter": "python",
   "pygments_lexer": "ipython3",
   "version": "3.10.9"
  }
 },
 "nbformat": 4,
 "nbformat_minor": 5
}
