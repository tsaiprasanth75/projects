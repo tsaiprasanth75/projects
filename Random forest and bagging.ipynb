{
 "cells": [
  {
   "cell_type": "code",
   "execution_count": 7,
   "id": "af104ef4",
   "metadata": {},
   "outputs": [],
   "source": [
    "#import the packages\n",
    "import pandas as pd\n",
    "from sklearn.model_selection import train_test_split\n",
    "from sklearn.ensemble import RandomForestRegressor\n",
    "from sklearn.metrics import mean_squared_error\n",
    "from sklearn.model_selection import GridSearchCV"
   ]
  },
  {
   "cell_type": "code",
   "execution_count": 2,
   "id": "95d4688d",
   "metadata": {},
   "outputs": [
    {
     "data": {
      "text/html": [
       "<div>\n",
       "<style scoped>\n",
       "    .dataframe tbody tr th:only-of-type {\n",
       "        vertical-align: middle;\n",
       "    }\n",
       "\n",
       "    .dataframe tbody tr th {\n",
       "        vertical-align: top;\n",
       "    }\n",
       "\n",
       "    .dataframe thead th {\n",
       "        text-align: right;\n",
       "    }\n",
       "</style>\n",
       "<table border=\"1\" class=\"dataframe\">\n",
       "  <thead>\n",
       "    <tr style=\"text-align: right;\">\n",
       "      <th></th>\n",
       "      <th>CRIM</th>\n",
       "      <th>ZN</th>\n",
       "      <th>INDUS</th>\n",
       "      <th>CHAS</th>\n",
       "      <th>NOX</th>\n",
       "      <th>RM</th>\n",
       "      <th>AGE</th>\n",
       "      <th>DIS</th>\n",
       "      <th>RAD</th>\n",
       "      <th>TAX</th>\n",
       "      <th>PTRATIO</th>\n",
       "      <th>B</th>\n",
       "      <th>LSTAT</th>\n",
       "      <th>MEDV</th>\n",
       "    </tr>\n",
       "  </thead>\n",
       "  <tbody>\n",
       "    <tr>\n",
       "      <th>0</th>\n",
       "      <td>0.00632</td>\n",
       "      <td>18.0</td>\n",
       "      <td>2.31</td>\n",
       "      <td>0</td>\n",
       "      <td>0.538</td>\n",
       "      <td>6.575</td>\n",
       "      <td>65.2</td>\n",
       "      <td>4.0900</td>\n",
       "      <td>1</td>\n",
       "      <td>296</td>\n",
       "      <td>15.3</td>\n",
       "      <td>396.90</td>\n",
       "      <td>4.98</td>\n",
       "      <td>24.0</td>\n",
       "    </tr>\n",
       "    <tr>\n",
       "      <th>1</th>\n",
       "      <td>0.02731</td>\n",
       "      <td>0.0</td>\n",
       "      <td>7.07</td>\n",
       "      <td>0</td>\n",
       "      <td>0.469</td>\n",
       "      <td>6.421</td>\n",
       "      <td>78.9</td>\n",
       "      <td>4.9671</td>\n",
       "      <td>2</td>\n",
       "      <td>242</td>\n",
       "      <td>17.8</td>\n",
       "      <td>396.90</td>\n",
       "      <td>9.14</td>\n",
       "      <td>21.6</td>\n",
       "    </tr>\n",
       "    <tr>\n",
       "      <th>2</th>\n",
       "      <td>0.02729</td>\n",
       "      <td>0.0</td>\n",
       "      <td>7.07</td>\n",
       "      <td>0</td>\n",
       "      <td>0.469</td>\n",
       "      <td>7.185</td>\n",
       "      <td>61.1</td>\n",
       "      <td>4.9671</td>\n",
       "      <td>2</td>\n",
       "      <td>242</td>\n",
       "      <td>17.8</td>\n",
       "      <td>392.83</td>\n",
       "      <td>4.03</td>\n",
       "      <td>34.7</td>\n",
       "    </tr>\n",
       "    <tr>\n",
       "      <th>3</th>\n",
       "      <td>0.03237</td>\n",
       "      <td>0.0</td>\n",
       "      <td>2.18</td>\n",
       "      <td>0</td>\n",
       "      <td>0.458</td>\n",
       "      <td>6.998</td>\n",
       "      <td>45.8</td>\n",
       "      <td>6.0622</td>\n",
       "      <td>3</td>\n",
       "      <td>222</td>\n",
       "      <td>18.7</td>\n",
       "      <td>394.63</td>\n",
       "      <td>2.94</td>\n",
       "      <td>33.4</td>\n",
       "    </tr>\n",
       "    <tr>\n",
       "      <th>4</th>\n",
       "      <td>0.06905</td>\n",
       "      <td>0.0</td>\n",
       "      <td>2.18</td>\n",
       "      <td>0</td>\n",
       "      <td>0.458</td>\n",
       "      <td>7.147</td>\n",
       "      <td>54.2</td>\n",
       "      <td>6.0622</td>\n",
       "      <td>3</td>\n",
       "      <td>222</td>\n",
       "      <td>18.7</td>\n",
       "      <td>396.90</td>\n",
       "      <td>5.33</td>\n",
       "      <td>36.2</td>\n",
       "    </tr>\n",
       "  </tbody>\n",
       "</table>\n",
       "</div>"
      ],
      "text/plain": [
       "      CRIM    ZN  INDUS  CHAS    NOX     RM   AGE     DIS  RAD  TAX  PTRATIO  \\\n",
       "0  0.00632  18.0   2.31     0  0.538  6.575  65.2  4.0900    1  296     15.3   \n",
       "1  0.02731   0.0   7.07     0  0.469  6.421  78.9  4.9671    2  242     17.8   \n",
       "2  0.02729   0.0   7.07     0  0.469  7.185  61.1  4.9671    2  242     17.8   \n",
       "3  0.03237   0.0   2.18     0  0.458  6.998  45.8  6.0622    3  222     18.7   \n",
       "4  0.06905   0.0   2.18     0  0.458  7.147  54.2  6.0622    3  222     18.7   \n",
       "\n",
       "        B  LSTAT  MEDV  \n",
       "0  396.90   4.98  24.0  \n",
       "1  396.90   9.14  21.6  \n",
       "2  392.83   4.03  34.7  \n",
       "3  394.63   2.94  33.4  \n",
       "4  396.90   5.33  36.2  "
      ]
     },
     "execution_count": 2,
     "metadata": {},
     "output_type": "execute_result"
    }
   ],
   "source": [
    "#import the dataset\n",
    "mydata=pd.read_excel(r'C:\\Users\\SRINJOY\\Downloads\\Boston_Housing Data.xls')\n",
    "mydata.head()"
   ]
  },
  {
   "cell_type": "code",
   "execution_count": 3,
   "id": "74a393b1",
   "metadata": {},
   "outputs": [],
   "source": [
    "#seperate x and y\n",
    "x=mydata.iloc[:,0:13]\n",
    "y=mydata.MEDV"
   ]
  },
  {
   "cell_type": "code",
   "execution_count": 4,
   "id": "b3d501d8",
   "metadata": {},
   "outputs": [],
   "source": [
    "#split into training and testing\n",
    "xtrain,xtest,ytrain,ytest=train_test_split(x,y,test_size=0.2,random_state=100)"
   ]
  },
  {
   "cell_type": "code",
   "execution_count": 5,
   "id": "fb0f6458",
   "metadata": {},
   "outputs": [
    {
     "data": {
      "text/plain": [
       "(506, 404, 102)"
      ]
     },
     "execution_count": 5,
     "metadata": {},
     "output_type": "execute_result"
    }
   ],
   "source": [
    "#check no of values\n",
    "y.count(),ytrain.count(),ytest.count()"
   ]
  },
  {
   "cell_type": "code",
   "execution_count": 6,
   "id": "9011c5a8",
   "metadata": {},
   "outputs": [],
   "source": [
    "#develop bagging model\n",
    "mybagmodel=RandomForestRegressor(max_features=None)"
   ]
  },
  {
   "cell_type": "code",
   "execution_count": 8,
   "id": "7bcbc8d9",
   "metadata": {},
   "outputs": [],
   "source": [
    "#optimize hyperparameter\n",
    "myparamgrid=[{'n_estimators':[100,400,500],'min_samples_split':[2,5,10]}]"
   ]
  },
  {
   "cell_type": "code",
   "execution_count": 9,
   "id": "90e76c3f",
   "metadata": {},
   "outputs": [],
   "source": [
    "#set up search\n",
    "mysearch=GridSearchCV(mybagmodel,param_grid=myparamgrid,scoring='neg_mean_squared_error',cv=10)"
   ]
  },
  {
   "cell_type": "code",
   "execution_count": 10,
   "id": "f5b2455d",
   "metadata": {},
   "outputs": [],
   "source": [
    "mysearch=mysearch.fit(xtrain,ytrain)"
   ]
  },
  {
   "cell_type": "code",
   "execution_count": 11,
   "id": "eeae77d6",
   "metadata": {},
   "outputs": [
    {
     "data": {
      "text/plain": [
       "{'min_samples_split': 2, 'n_estimators': 400}"
      ]
     },
     "execution_count": 11,
     "metadata": {},
     "output_type": "execute_result"
    }
   ],
   "source": [
    "mysearch.best_params_"
   ]
  },
  {
   "cell_type": "code",
   "execution_count": 12,
   "id": "cfd415fe",
   "metadata": {},
   "outputs": [],
   "source": [
    "#develop optimum bagging model\n",
    "mybagmodel=RandomForestRegressor(n_estimators=400,min_samples_split=2,max_features=None)"
   ]
  },
  {
   "cell_type": "code",
   "execution_count": 13,
   "id": "f3fa726d",
   "metadata": {},
   "outputs": [],
   "source": [
    "mybagmodel=mybagmodel.fit(xtrain,ytrain)"
   ]
  },
  {
   "cell_type": "code",
   "execution_count": 14,
   "id": "7af11cba",
   "metadata": {},
   "outputs": [
    {
     "data": {
      "text/plain": [
       "97.45"
      ]
     },
     "execution_count": 14,
     "metadata": {},
     "output_type": "execute_result"
    }
   ],
   "source": [
    "rsq=mybagmodel.score(xtrain,ytrain)\n",
    "round(rsq*100,2)"
   ]
  },
  {
   "cell_type": "code",
   "execution_count": 15,
   "id": "62b29323",
   "metadata": {},
   "outputs": [
    {
     "data": {
      "text/plain": [
       "2.07"
      ]
     },
     "execution_count": 15,
     "metadata": {},
     "output_type": "execute_result"
    }
   ],
   "source": [
    "ypred=mybagmodel.predict(xtrain)\n",
    "mse=mean_squared_error(ytrain,ypred)\n",
    "round(mse,3)"
   ]
  },
  {
   "cell_type": "code",
   "execution_count": 16,
   "id": "9f7015cd",
   "metadata": {},
   "outputs": [
    {
     "data": {
      "text/plain": [
       "88.25"
      ]
     },
     "execution_count": 16,
     "metadata": {},
     "output_type": "execute_result"
    }
   ],
   "source": [
    "#validate on test data\n",
    "rsq_test=mybagmodel.score(xtest,ytest)\n",
    "round(rsq_test*100,2)"
   ]
  },
  {
   "cell_type": "code",
   "execution_count": 32,
   "id": "bdb2b5d5",
   "metadata": {},
   "outputs": [
    {
     "data": {
      "text/plain": [
       "11.352"
      ]
     },
     "execution_count": 32,
     "metadata": {},
     "output_type": "execute_result"
    }
   ],
   "source": [
    "predtest=mybagmodel.predict(xtest)\n",
    "mse_test=mean_squared_error(ytest,predtest)\n",
    "round(mse_test,3)"
   ]
  },
  {
   "cell_type": "markdown",
   "id": "2f0acd1a",
   "metadata": {},
   "source": [
    "# develop random forest model"
   ]
  },
  {
   "cell_type": "code",
   "execution_count": 20,
   "id": "6c9ca54c",
   "metadata": {},
   "outputs": [],
   "source": [
    "#develop random forest model\n",
    "myrfmodel=RandomForestRegressor(max_features='sqrt')"
   ]
  },
  {
   "cell_type": "code",
   "execution_count": 21,
   "id": "16f31f1d",
   "metadata": {},
   "outputs": [],
   "source": [
    "myparamgrid_1=[{'n_estimators':[100,400,500],'min_samples_split':[2,5,10,20,40,50]}]"
   ]
  },
  {
   "cell_type": "code",
   "execution_count": 23,
   "id": "6fb8c974",
   "metadata": {},
   "outputs": [],
   "source": [
    "mysearch_1=GridSearchCV(myrfmodel,param_grid=myparamgrid_1,scoring='neg_mean_squared_error',cv=10)"
   ]
  },
  {
   "cell_type": "code",
   "execution_count": 24,
   "id": "9ff0d762",
   "metadata": {},
   "outputs": [],
   "source": [
    "mysearch_1=mysearch_1.fit(xtrain,ytrain)"
   ]
  },
  {
   "cell_type": "code",
   "execution_count": 25,
   "id": "9c2dfaa5",
   "metadata": {},
   "outputs": [
    {
     "data": {
      "text/plain": [
       "{'min_samples_split': 2, 'n_estimators': 500}"
      ]
     },
     "execution_count": 25,
     "metadata": {},
     "output_type": "execute_result"
    }
   ],
   "source": [
    "mysearch_1.best_params_"
   ]
  },
  {
   "cell_type": "code",
   "execution_count": 26,
   "id": "be989b3c",
   "metadata": {},
   "outputs": [],
   "source": [
    "#develop optimum random forest model\n",
    "myrfmodel=RandomForestRegressor(n_estimators=500,min_samples_split=2,max_features='sqrt')"
   ]
  },
  {
   "cell_type": "code",
   "execution_count": 27,
   "id": "b545cfeb",
   "metadata": {},
   "outputs": [],
   "source": [
    "myrfmodel=myrfmodel.fit(xtrain,ytrain)"
   ]
  },
  {
   "cell_type": "code",
   "execution_count": 28,
   "id": "91931430",
   "metadata": {},
   "outputs": [
    {
     "data": {
      "text/plain": [
       "98.18"
      ]
     },
     "execution_count": 28,
     "metadata": {},
     "output_type": "execute_result"
    }
   ],
   "source": [
    "rsq_rf=myrfmodel.score(xtrain,ytrain)\n",
    "round(rsq_rf*100,2)"
   ]
  },
  {
   "cell_type": "code",
   "execution_count": 30,
   "id": "d0333b2b",
   "metadata": {},
   "outputs": [
    {
     "data": {
      "text/plain": [
       "1.483"
      ]
     },
     "execution_count": 30,
     "metadata": {},
     "output_type": "execute_result"
    }
   ],
   "source": [
    "ypred_rf=myrfmodel.predict(xtrain)\n",
    "mse_rf=mean_squared_error(ytrain,ypred_rf)\n",
    "round(mse_rf,3)"
   ]
  },
  {
   "cell_type": "code",
   "execution_count": 31,
   "id": "cb6eb072",
   "metadata": {},
   "outputs": [
    {
     "data": {
      "text/plain": [
       "89.14"
      ]
     },
     "execution_count": 31,
     "metadata": {},
     "output_type": "execute_result"
    }
   ],
   "source": [
    "#validate on test data\n",
    "rsq_rf_test=myrfmodel.score(xtest,ytest)\n",
    "round(rsq_rf_test*100,2)"
   ]
  },
  {
   "cell_type": "code",
   "execution_count": 33,
   "id": "51cf8c1f",
   "metadata": {},
   "outputs": [
    {
     "data": {
      "text/plain": [
       "10.494"
      ]
     },
     "execution_count": 33,
     "metadata": {},
     "output_type": "execute_result"
    }
   ],
   "source": [
    "predtest_rf=myrfmodel.predict(xtest)\n",
    "mse_rf_test=mean_squared_error(ytest,predtest_rf)\n",
    "round(mse_rf_test,3)"
   ]
  },
  {
   "cell_type": "code",
   "execution_count": 34,
   "id": "b25ae64d",
   "metadata": {},
   "outputs": [],
   "source": [
    "#saving the model\n",
    "import joblib\n",
    "import pickle"
   ]
  },
  {
   "cell_type": "code",
   "execution_count": 35,
   "id": "0afabfa2",
   "metadata": {},
   "outputs": [],
   "source": [
    "pickle.dump(mybagmodel,open('bag_model.sav','wb'))"
   ]
  },
  {
   "cell_type": "code",
   "execution_count": 36,
   "id": "376f250b",
   "metadata": {},
   "outputs": [
    {
     "data": {
      "text/plain": [
       "'C:\\\\Users\\\\SRINJOY'"
      ]
     },
     "execution_count": 36,
     "metadata": {},
     "output_type": "execute_result"
    }
   ],
   "source": [
    "%pwd"
   ]
  },
  {
   "cell_type": "code",
   "execution_count": 40,
   "id": "babc11a0",
   "metadata": {},
   "outputs": [
    {
     "data": {
      "text/plain": [
       "['rf_model.sav']"
      ]
     },
     "execution_count": 40,
     "metadata": {},
     "output_type": "execute_result"
    }
   ],
   "source": [
    "#export rfmodel using joblib\n",
    "joblib.dump(myrfmodel,'rf_model.sav')"
   ]
  },
  {
   "cell_type": "code",
   "execution_count": null,
   "id": "8a01b69e",
   "metadata": {},
   "outputs": [],
   "source": []
  },
  {
   "cell_type": "code",
   "execution_count": null,
   "id": "691901c7",
   "metadata": {},
   "outputs": [],
   "source": []
  }
 ],
 "metadata": {
  "kernelspec": {
   "display_name": "Python 3 (ipykernel)",
   "language": "python",
   "name": "python3"
  },
  "language_info": {
   "codemirror_mode": {
    "name": "ipython",
    "version": 3
   },
   "file_extension": ".py",
   "mimetype": "text/x-python",
   "name": "python",
   "nbconvert_exporter": "python",
   "pygments_lexer": "ipython3",
   "version": "3.10.9"
  }
 },
 "nbformat": 4,
 "nbformat_minor": 5
}
