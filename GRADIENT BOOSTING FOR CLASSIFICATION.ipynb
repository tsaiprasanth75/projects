{
 "cells": [
  {
   "cell_type": "code",
   "execution_count": 1,
   "id": "61794a79",
   "metadata": {},
   "outputs": [],
   "source": [
    "#Import the packages\n",
    "import pandas as pd\n",
    "from sklearn.ensemble import GradientBoostingClassifier\n",
    "from sklearn.model_selection import train_test_split\n",
    "from sklearn.model_selection import GridSearchCV"
   ]
  },
  {
   "cell_type": "code",
   "execution_count": 2,
   "id": "c053eb3e",
   "metadata": {},
   "outputs": [],
   "source": [
    "#Import the data\n",
    "mydata=pd.read_csv(\"C:/Users/tsaip/Downloads/Data files for upcoming classes (2)/Logistic_Reg.csv\")"
   ]
  },
  {
   "cell_type": "code",
   "execution_count": 3,
   "id": "527a8bee",
   "metadata": {},
   "outputs": [
    {
     "data": {
      "text/html": [
       "<div>\n",
       "<style scoped>\n",
       "    .dataframe tbody tr th:only-of-type {\n",
       "        vertical-align: middle;\n",
       "    }\n",
       "\n",
       "    .dataframe tbody tr th {\n",
       "        vertical-align: top;\n",
       "    }\n",
       "\n",
       "    .dataframe thead th {\n",
       "        text-align: right;\n",
       "    }\n",
       "</style>\n",
       "<table border=\"1\" class=\"dataframe\">\n",
       "  <thead>\n",
       "    <tr style=\"text-align: right;\">\n",
       "      <th></th>\n",
       "      <th>Ind_Exp_Act_Score</th>\n",
       "      <th>Tran_Speed_Score</th>\n",
       "      <th>Peer_Comb_Score</th>\n",
       "      <th>Outcome</th>\n",
       "    </tr>\n",
       "  </thead>\n",
       "  <tbody>\n",
       "    <tr>\n",
       "      <th>0</th>\n",
       "      <td>6.2</td>\n",
       "      <td>9.3</td>\n",
       "      <td>7.4</td>\n",
       "      <td>1</td>\n",
       "    </tr>\n",
       "    <tr>\n",
       "      <th>1</th>\n",
       "      <td>2.6</td>\n",
       "      <td>2.2</td>\n",
       "      <td>8.7</td>\n",
       "      <td>1</td>\n",
       "    </tr>\n",
       "    <tr>\n",
       "      <th>2</th>\n",
       "      <td>9.5</td>\n",
       "      <td>1.5</td>\n",
       "      <td>8.2</td>\n",
       "      <td>1</td>\n",
       "    </tr>\n",
       "    <tr>\n",
       "      <th>3</th>\n",
       "      <td>2.6</td>\n",
       "      <td>5.0</td>\n",
       "      <td>0.4</td>\n",
       "      <td>0</td>\n",
       "    </tr>\n",
       "    <tr>\n",
       "      <th>4</th>\n",
       "      <td>10.0</td>\n",
       "      <td>7.7</td>\n",
       "      <td>7.2</td>\n",
       "      <td>1</td>\n",
       "    </tr>\n",
       "  </tbody>\n",
       "</table>\n",
       "</div>"
      ],
      "text/plain": [
       "   Ind_Exp_Act_Score  Tran_Speed_Score  Peer_Comb_Score  Outcome\n",
       "0                6.2               9.3              7.4        1\n",
       "1                2.6               2.2              8.7        1\n",
       "2                9.5               1.5              8.2        1\n",
       "3                2.6               5.0              0.4        0\n",
       "4               10.0               7.7              7.2        1"
      ]
     },
     "execution_count": 3,
     "metadata": {},
     "output_type": "execute_result"
    }
   ],
   "source": [
    "mydata.head()"
   ]
  },
  {
   "cell_type": "code",
   "execution_count": 4,
   "id": "a8cee784",
   "metadata": {},
   "outputs": [],
   "source": [
    "#Seperate x and y\n",
    "x= mydata.iloc[:,0:3]"
   ]
  },
  {
   "cell_type": "code",
   "execution_count": 5,
   "id": "9415d224",
   "metadata": {},
   "outputs": [
    {
     "data": {
      "text/html": [
       "<div>\n",
       "<style scoped>\n",
       "    .dataframe tbody tr th:only-of-type {\n",
       "        vertical-align: middle;\n",
       "    }\n",
       "\n",
       "    .dataframe tbody tr th {\n",
       "        vertical-align: top;\n",
       "    }\n",
       "\n",
       "    .dataframe thead th {\n",
       "        text-align: right;\n",
       "    }\n",
       "</style>\n",
       "<table border=\"1\" class=\"dataframe\">\n",
       "  <thead>\n",
       "    <tr style=\"text-align: right;\">\n",
       "      <th></th>\n",
       "      <th>Ind_Exp_Act_Score</th>\n",
       "      <th>Tran_Speed_Score</th>\n",
       "      <th>Peer_Comb_Score</th>\n",
       "    </tr>\n",
       "  </thead>\n",
       "  <tbody>\n",
       "    <tr>\n",
       "      <th>0</th>\n",
       "      <td>6.2</td>\n",
       "      <td>9.3</td>\n",
       "      <td>7.4</td>\n",
       "    </tr>\n",
       "    <tr>\n",
       "      <th>1</th>\n",
       "      <td>2.6</td>\n",
       "      <td>2.2</td>\n",
       "      <td>8.7</td>\n",
       "    </tr>\n",
       "    <tr>\n",
       "      <th>2</th>\n",
       "      <td>9.5</td>\n",
       "      <td>1.5</td>\n",
       "      <td>8.2</td>\n",
       "    </tr>\n",
       "    <tr>\n",
       "      <th>3</th>\n",
       "      <td>2.6</td>\n",
       "      <td>5.0</td>\n",
       "      <td>0.4</td>\n",
       "    </tr>\n",
       "    <tr>\n",
       "      <th>4</th>\n",
       "      <td>10.0</td>\n",
       "      <td>7.7</td>\n",
       "      <td>7.2</td>\n",
       "    </tr>\n",
       "    <tr>\n",
       "      <th>...</th>\n",
       "      <td>...</td>\n",
       "      <td>...</td>\n",
       "      <td>...</td>\n",
       "    </tr>\n",
       "    <tr>\n",
       "      <th>975</th>\n",
       "      <td>6.7</td>\n",
       "      <td>2.7</td>\n",
       "      <td>1.8</td>\n",
       "    </tr>\n",
       "    <tr>\n",
       "      <th>976</th>\n",
       "      <td>8.3</td>\n",
       "      <td>9.7</td>\n",
       "      <td>5.6</td>\n",
       "    </tr>\n",
       "    <tr>\n",
       "      <th>977</th>\n",
       "      <td>2.3</td>\n",
       "      <td>0.7</td>\n",
       "      <td>5.5</td>\n",
       "    </tr>\n",
       "    <tr>\n",
       "      <th>978</th>\n",
       "      <td>0.9</td>\n",
       "      <td>4.8</td>\n",
       "      <td>3.0</td>\n",
       "    </tr>\n",
       "    <tr>\n",
       "      <th>979</th>\n",
       "      <td>2.5</td>\n",
       "      <td>0.0</td>\n",
       "      <td>7.4</td>\n",
       "    </tr>\n",
       "  </tbody>\n",
       "</table>\n",
       "<p>980 rows × 3 columns</p>\n",
       "</div>"
      ],
      "text/plain": [
       "     Ind_Exp_Act_Score  Tran_Speed_Score  Peer_Comb_Score\n",
       "0                  6.2               9.3              7.4\n",
       "1                  2.6               2.2              8.7\n",
       "2                  9.5               1.5              8.2\n",
       "3                  2.6               5.0              0.4\n",
       "4                 10.0               7.7              7.2\n",
       "..                 ...               ...              ...\n",
       "975                6.7               2.7              1.8\n",
       "976                8.3               9.7              5.6\n",
       "977                2.3               0.7              5.5\n",
       "978                0.9               4.8              3.0\n",
       "979                2.5               0.0              7.4\n",
       "\n",
       "[980 rows x 3 columns]"
      ]
     },
     "execution_count": 5,
     "metadata": {},
     "output_type": "execute_result"
    }
   ],
   "source": [
    "x"
   ]
  },
  {
   "cell_type": "code",
   "execution_count": 6,
   "id": "83315e62",
   "metadata": {},
   "outputs": [],
   "source": [
    "y=mydata.Outcome"
   ]
  },
  {
   "cell_type": "code",
   "execution_count": 7,
   "id": "d078ba9b",
   "metadata": {},
   "outputs": [
    {
     "data": {
      "text/plain": [
       "0    1\n",
       "1    1\n",
       "2    1\n",
       "3    0\n",
       "4    1\n",
       "Name: Outcome, dtype: int64"
      ]
     },
     "execution_count": 7,
     "metadata": {},
     "output_type": "execute_result"
    }
   ],
   "source": [
    "y.head()"
   ]
  },
  {
   "cell_type": "code",
   "execution_count": 9,
   "id": "32ef7d13",
   "metadata": {},
   "outputs": [],
   "source": [
    "#Split the data into training and testing\n",
    "X_train, X_test, y_train, y_test=train_test_split(x,y,test_size=0.2,random_state=100)"
   ]
  },
  {
   "cell_type": "code",
   "execution_count": 10,
   "id": "c5114781",
   "metadata": {},
   "outputs": [],
   "source": [
    "#Develop the model\n",
    "mymodel=GradientBoostingClassifier()"
   ]
  },
  {
   "cell_type": "code",
   "execution_count": 11,
   "id": "bbd5d8ef",
   "metadata": {},
   "outputs": [],
   "source": [
    "#Tune Hyperparameter\n",
    "myparamgrid=[{'n_estimators':[10,20],'learning_rate':[0.1,1],'max_depth':[1,2,3]}]"
   ]
  },
  {
   "cell_type": "code",
   "execution_count": 13,
   "id": "b81f6122",
   "metadata": {},
   "outputs": [],
   "source": [
    "#Set up the search\n",
    "mysearch=GridSearchCV(mymodel,param_grid=myparamgrid,cv=10,scoring='accuracy',verbose=3)"
   ]
  },
  {
   "cell_type": "code",
   "execution_count": 14,
   "id": "1ba57b4c",
   "metadata": {},
   "outputs": [
    {
     "name": "stdout",
     "output_type": "stream",
     "text": [
      "Fitting 10 folds for each of 12 candidates, totalling 120 fits\n",
      "[CV 1/10] END learning_rate=0.1, max_depth=1, n_estimators=10;, score=0.759 total time=   0.0s\n",
      "[CV 2/10] END learning_rate=0.1, max_depth=1, n_estimators=10;, score=0.722 total time=   0.0s\n",
      "[CV 3/10] END learning_rate=0.1, max_depth=1, n_estimators=10;, score=0.747 total time=   0.0s\n",
      "[CV 4/10] END learning_rate=0.1, max_depth=1, n_estimators=10;, score=0.722 total time=   0.0s\n",
      "[CV 5/10] END learning_rate=0.1, max_depth=1, n_estimators=10;, score=0.731 total time=   0.0s\n",
      "[CV 6/10] END learning_rate=0.1, max_depth=1, n_estimators=10;, score=0.731 total time=   0.0s\n",
      "[CV 7/10] END learning_rate=0.1, max_depth=1, n_estimators=10;, score=0.744 total time=   0.0s\n",
      "[CV 8/10] END learning_rate=0.1, max_depth=1, n_estimators=10;, score=0.744 total time=   0.0s\n",
      "[CV 9/10] END learning_rate=0.1, max_depth=1, n_estimators=10;, score=0.769 total time=   0.0s\n",
      "[CV 10/10] END learning_rate=0.1, max_depth=1, n_estimators=10;, score=0.744 total time=   0.0s\n",
      "[CV 1/10] END learning_rate=0.1, max_depth=1, n_estimators=20;, score=0.848 total time=   0.0s\n",
      "[CV 2/10] END learning_rate=0.1, max_depth=1, n_estimators=20;, score=0.759 total time=   0.0s\n",
      "[CV 3/10] END learning_rate=0.1, max_depth=1, n_estimators=20;, score=0.797 total time=   0.0s\n",
      "[CV 4/10] END learning_rate=0.1, max_depth=1, n_estimators=20;, score=0.823 total time=   0.0s\n",
      "[CV 5/10] END learning_rate=0.1, max_depth=1, n_estimators=20;, score=0.756 total time=   0.0s\n",
      "[CV 6/10] END learning_rate=0.1, max_depth=1, n_estimators=20;, score=0.821 total time=   0.0s\n",
      "[CV 7/10] END learning_rate=0.1, max_depth=1, n_estimators=20;, score=0.808 total time=   0.0s\n",
      "[CV 8/10] END learning_rate=0.1, max_depth=1, n_estimators=20;, score=0.782 total time=   0.0s\n",
      "[CV 9/10] END learning_rate=0.1, max_depth=1, n_estimators=20;, score=0.821 total time=   0.0s\n",
      "[CV 10/10] END learning_rate=0.1, max_depth=1, n_estimators=20;, score=0.821 total time=   0.0s\n",
      "[CV 1/10] END learning_rate=0.1, max_depth=2, n_estimators=10;, score=0.848 total time=   0.0s\n",
      "[CV 2/10] END learning_rate=0.1, max_depth=2, n_estimators=10;, score=0.861 total time=   0.0s\n",
      "[CV 3/10] END learning_rate=0.1, max_depth=2, n_estimators=10;, score=0.823 total time=   0.0s\n",
      "[CV 4/10] END learning_rate=0.1, max_depth=2, n_estimators=10;, score=0.823 total time=   0.0s\n",
      "[CV 5/10] END learning_rate=0.1, max_depth=2, n_estimators=10;, score=0.769 total time=   0.0s\n",
      "[CV 6/10] END learning_rate=0.1, max_depth=2, n_estimators=10;, score=0.846 total time=   0.0s\n",
      "[CV 7/10] END learning_rate=0.1, max_depth=2, n_estimators=10;, score=0.821 total time=   0.0s\n",
      "[CV 8/10] END learning_rate=0.1, max_depth=2, n_estimators=10;, score=0.795 total time=   0.0s\n",
      "[CV 9/10] END learning_rate=0.1, max_depth=2, n_estimators=10;, score=0.846 total time=   0.0s\n",
      "[CV 10/10] END learning_rate=0.1, max_depth=2, n_estimators=10;, score=0.872 total time=   0.0s\n",
      "[CV 1/10] END learning_rate=0.1, max_depth=2, n_estimators=20;, score=0.873 total time=   0.0s\n",
      "[CV 2/10] END learning_rate=0.1, max_depth=2, n_estimators=20;, score=0.937 total time=   0.0s\n",
      "[CV 3/10] END learning_rate=0.1, max_depth=2, n_estimators=20;, score=0.949 total time=   0.0s\n",
      "[CV 4/10] END learning_rate=0.1, max_depth=2, n_estimators=20;, score=0.886 total time=   0.0s\n",
      "[CV 5/10] END learning_rate=0.1, max_depth=2, n_estimators=20;, score=0.846 total time=   0.0s\n",
      "[CV 6/10] END learning_rate=0.1, max_depth=2, n_estimators=20;, score=0.897 total time=   0.0s\n",
      "[CV 7/10] END learning_rate=0.1, max_depth=2, n_estimators=20;, score=0.897 total time=   0.0s\n",
      "[CV 8/10] END learning_rate=0.1, max_depth=2, n_estimators=20;, score=0.833 total time=   0.0s\n",
      "[CV 9/10] END learning_rate=0.1, max_depth=2, n_estimators=20;, score=0.949 total time=   0.0s\n",
      "[CV 10/10] END learning_rate=0.1, max_depth=2, n_estimators=20;, score=0.936 total time=   0.0s\n",
      "[CV 1/10] END learning_rate=0.1, max_depth=3, n_estimators=10;, score=0.911 total time=   0.0s\n",
      "[CV 2/10] END learning_rate=0.1, max_depth=3, n_estimators=10;, score=0.911 total time=   0.0s\n",
      "[CV 3/10] END learning_rate=0.1, max_depth=3, n_estimators=10;, score=0.937 total time=   0.0s\n",
      "[CV 4/10] END learning_rate=0.1, max_depth=3, n_estimators=10;, score=0.886 total time=   0.0s\n",
      "[CV 5/10] END learning_rate=0.1, max_depth=3, n_estimators=10;, score=0.795 total time=   0.0s\n",
      "[CV 6/10] END learning_rate=0.1, max_depth=3, n_estimators=10;, score=0.897 total time=   0.0s\n",
      "[CV 7/10] END learning_rate=0.1, max_depth=3, n_estimators=10;, score=0.885 total time=   0.0s\n",
      "[CV 8/10] END learning_rate=0.1, max_depth=3, n_estimators=10;, score=0.782 total time=   0.0s\n",
      "[CV 9/10] END learning_rate=0.1, max_depth=3, n_estimators=10;, score=0.923 total time=   0.0s\n",
      "[CV 10/10] END learning_rate=0.1, max_depth=3, n_estimators=10;, score=0.949 total time=   0.0s\n",
      "[CV 1/10] END learning_rate=0.1, max_depth=3, n_estimators=20;, score=0.924 total time=   0.0s\n",
      "[CV 2/10] END learning_rate=0.1, max_depth=3, n_estimators=20;, score=0.962 total time=   0.0s\n",
      "[CV 3/10] END learning_rate=0.1, max_depth=3, n_estimators=20;, score=0.962 total time=   0.0s\n",
      "[CV 4/10] END learning_rate=0.1, max_depth=3, n_estimators=20;, score=0.924 total time=   0.0s\n",
      "[CV 5/10] END learning_rate=0.1, max_depth=3, n_estimators=20;, score=0.833 total time=   0.0s\n",
      "[CV 6/10] END learning_rate=0.1, max_depth=3, n_estimators=20;, score=0.936 total time=   0.0s\n",
      "[CV 7/10] END learning_rate=0.1, max_depth=3, n_estimators=20;, score=0.949 total time=   0.0s\n",
      "[CV 8/10] END learning_rate=0.1, max_depth=3, n_estimators=20;, score=0.846 total time=   0.0s\n",
      "[CV 9/10] END learning_rate=0.1, max_depth=3, n_estimators=20;, score=0.962 total time=   0.0s\n",
      "[CV 10/10] END learning_rate=0.1, max_depth=3, n_estimators=20;, score=0.936 total time=   0.0s\n",
      "[CV 1/10] END learning_rate=1, max_depth=1, n_estimators=10;, score=0.937 total time=   0.0s\n",
      "[CV 2/10] END learning_rate=1, max_depth=1, n_estimators=10;, score=0.949 total time=   0.0s\n",
      "[CV 3/10] END learning_rate=1, max_depth=1, n_estimators=10;, score=0.962 total time=   0.0s\n",
      "[CV 4/10] END learning_rate=1, max_depth=1, n_estimators=10;, score=0.886 total time=   0.0s\n",
      "[CV 5/10] END learning_rate=1, max_depth=1, n_estimators=10;, score=0.872 total time=   0.0s\n",
      "[CV 6/10] END learning_rate=1, max_depth=1, n_estimators=10;, score=0.910 total time=   0.0s\n",
      "[CV 7/10] END learning_rate=1, max_depth=1, n_estimators=10;, score=0.936 total time=   0.0s\n",
      "[CV 8/10] END learning_rate=1, max_depth=1, n_estimators=10;, score=0.885 total time=   0.0s\n",
      "[CV 9/10] END learning_rate=1, max_depth=1, n_estimators=10;, score=0.936 total time=   0.0s\n",
      "[CV 10/10] END learning_rate=1, max_depth=1, n_estimators=10;, score=0.936 total time=   0.0s\n",
      "[CV 1/10] END learning_rate=1, max_depth=1, n_estimators=20;, score=0.962 total time=   0.0s\n",
      "[CV 2/10] END learning_rate=1, max_depth=1, n_estimators=20;, score=0.937 total time=   0.0s\n",
      "[CV 3/10] END learning_rate=1, max_depth=1, n_estimators=20;, score=0.975 total time=   0.0s\n",
      "[CV 4/10] END learning_rate=1, max_depth=1, n_estimators=20;, score=0.911 total time=   0.0s\n",
      "[CV 5/10] END learning_rate=1, max_depth=1, n_estimators=20;, score=0.936 total time=   0.0s\n",
      "[CV 6/10] END learning_rate=1, max_depth=1, n_estimators=20;, score=0.936 total time=   0.0s\n",
      "[CV 7/10] END learning_rate=1, max_depth=1, n_estimators=20;, score=0.962 total time=   0.0s\n",
      "[CV 8/10] END learning_rate=1, max_depth=1, n_estimators=20;, score=0.885 total time=   0.0s\n",
      "[CV 9/10] END learning_rate=1, max_depth=1, n_estimators=20;, score=0.974 total time=   0.0s\n",
      "[CV 10/10] END learning_rate=1, max_depth=1, n_estimators=20;, score=0.936 total time=   0.0s\n",
      "[CV 1/10] END learning_rate=1, max_depth=2, n_estimators=10;, score=0.962 total time=   0.0s\n",
      "[CV 2/10] END learning_rate=1, max_depth=2, n_estimators=10;, score=0.924 total time=   0.0s\n",
      "[CV 3/10] END learning_rate=1, max_depth=2, n_estimators=10;, score=0.975 total time=   0.0s\n",
      "[CV 4/10] END learning_rate=1, max_depth=2, n_estimators=10;, score=0.899 total time=   0.0s\n",
      "[CV 5/10] END learning_rate=1, max_depth=2, n_estimators=10;, score=0.885 total time=   0.0s\n",
      "[CV 6/10] END learning_rate=1, max_depth=2, n_estimators=10;, score=0.974 total time=   0.0s\n",
      "[CV 7/10] END learning_rate=1, max_depth=2, n_estimators=10;, score=0.923 total time=   0.0s\n",
      "[CV 8/10] END learning_rate=1, max_depth=2, n_estimators=10;, score=0.833 total time=   0.0s\n",
      "[CV 9/10] END learning_rate=1, max_depth=2, n_estimators=10;, score=0.936 total time=   0.0s\n",
      "[CV 10/10] END learning_rate=1, max_depth=2, n_estimators=10;, score=0.936 total time=   0.0s\n",
      "[CV 1/10] END learning_rate=1, max_depth=2, n_estimators=20;, score=0.937 total time=   0.0s\n",
      "[CV 2/10] END learning_rate=1, max_depth=2, n_estimators=20;, score=0.949 total time=   0.0s\n",
      "[CV 3/10] END learning_rate=1, max_depth=2, n_estimators=20;, score=0.987 total time=   0.0s\n",
      "[CV 4/10] END learning_rate=1, max_depth=2, n_estimators=20;, score=0.911 total time=   0.0s\n",
      "[CV 5/10] END learning_rate=1, max_depth=2, n_estimators=20;, score=0.872 total time=   0.0s\n",
      "[CV 6/10] END learning_rate=1, max_depth=2, n_estimators=20;, score=0.962 total time=   0.0s\n"
     ]
    },
    {
     "name": "stdout",
     "output_type": "stream",
     "text": [
      "[CV 7/10] END learning_rate=1, max_depth=2, n_estimators=20;, score=0.962 total time=   0.0s\n",
      "[CV 8/10] END learning_rate=1, max_depth=2, n_estimators=20;, score=0.897 total time=   0.0s\n",
      "[CV 9/10] END learning_rate=1, max_depth=2, n_estimators=20;, score=0.974 total time=   0.0s\n",
      "[CV 10/10] END learning_rate=1, max_depth=2, n_estimators=20;, score=0.936 total time=   0.0s\n",
      "[CV 1/10] END learning_rate=1, max_depth=3, n_estimators=10;, score=0.911 total time=   0.0s\n",
      "[CV 2/10] END learning_rate=1, max_depth=3, n_estimators=10;, score=0.924 total time=   0.0s\n",
      "[CV 3/10] END learning_rate=1, max_depth=3, n_estimators=10;, score=0.987 total time=   0.0s\n",
      "[CV 4/10] END learning_rate=1, max_depth=3, n_estimators=10;, score=0.924 total time=   0.0s\n",
      "[CV 5/10] END learning_rate=1, max_depth=3, n_estimators=10;, score=0.897 total time=   0.0s\n",
      "[CV 6/10] END learning_rate=1, max_depth=3, n_estimators=10;, score=0.962 total time=   0.0s\n",
      "[CV 7/10] END learning_rate=1, max_depth=3, n_estimators=10;, score=0.923 total time=   0.0s\n",
      "[CV 8/10] END learning_rate=1, max_depth=3, n_estimators=10;, score=0.821 total time=   0.0s\n",
      "[CV 9/10] END learning_rate=1, max_depth=3, n_estimators=10;, score=0.974 total time=   0.0s\n",
      "[CV 10/10] END learning_rate=1, max_depth=3, n_estimators=10;, score=0.949 total time=   0.0s\n",
      "[CV 1/10] END learning_rate=1, max_depth=3, n_estimators=20;, score=0.924 total time=   0.0s\n",
      "[CV 2/10] END learning_rate=1, max_depth=3, n_estimators=20;, score=0.924 total time=   0.0s\n",
      "[CV 3/10] END learning_rate=1, max_depth=3, n_estimators=20;, score=0.975 total time=   0.0s\n",
      "[CV 4/10] END learning_rate=1, max_depth=3, n_estimators=20;, score=0.924 total time=   0.0s\n",
      "[CV 5/10] END learning_rate=1, max_depth=3, n_estimators=20;, score=0.897 total time=   0.0s\n",
      "[CV 6/10] END learning_rate=1, max_depth=3, n_estimators=20;, score=0.974 total time=   0.0s\n",
      "[CV 7/10] END learning_rate=1, max_depth=3, n_estimators=20;, score=0.962 total time=   0.0s\n",
      "[CV 8/10] END learning_rate=1, max_depth=3, n_estimators=20;, score=0.846 total time=   0.0s\n",
      "[CV 9/10] END learning_rate=1, max_depth=3, n_estimators=20;, score=0.962 total time=   0.0s\n",
      "[CV 10/10] END learning_rate=1, max_depth=3, n_estimators=20;, score=0.949 total time=   0.0s\n"
     ]
    }
   ],
   "source": [
    "#Fit the search\n",
    "mysearch=mysearch.fit(X_train,y_train)"
   ]
  },
  {
   "cell_type": "code",
   "execution_count": 15,
   "id": "e3027ede",
   "metadata": {},
   "outputs": [
    {
     "data": {
      "text/plain": [
       "{'learning_rate': 1, 'max_depth': 1, 'n_estimators': 20}"
      ]
     },
     "execution_count": 15,
     "metadata": {},
     "output_type": "execute_result"
    }
   ],
   "source": [
    "#OPtimum parameters\n",
    "mysearch.best_params_"
   ]
  },
  {
   "cell_type": "code",
   "execution_count": 17,
   "id": "61d33a62",
   "metadata": {},
   "outputs": [],
   "source": [
    "#Final Model\n",
    "mymodel=GradientBoostingClassifier(n_estimators=20,learning_rate=1,max_depth=1)"
   ]
  },
  {
   "cell_type": "code",
   "execution_count": 18,
   "id": "0909fbaa",
   "metadata": {},
   "outputs": [],
   "source": [
    "#Fit the model to data\n",
    "mymodel=mymodel.fit(X_train,y_train)"
   ]
  },
  {
   "cell_type": "code",
   "execution_count": 19,
   "id": "f0b0eadd",
   "metadata": {},
   "outputs": [],
   "source": [
    "#Model Performance\n",
    "accuracy = mymodel.score(X_train,y_train)"
   ]
  },
  {
   "cell_type": "code",
   "execution_count": 20,
   "id": "5a18d5ff",
   "metadata": {},
   "outputs": [
    {
     "data": {
      "text/plain": [
       "0.9655612244897959"
      ]
     },
     "execution_count": 20,
     "metadata": {},
     "output_type": "execute_result"
    }
   ],
   "source": [
    "accuracy"
   ]
  },
  {
   "cell_type": "code",
   "execution_count": 21,
   "id": "fe8bf8f3",
   "metadata": {},
   "outputs": [],
   "source": [
    "#Model Validation\n",
    "test_accuracy=mymodel.score(X_test,y_test)"
   ]
  },
  {
   "cell_type": "code",
   "execution_count": 23,
   "id": "0d4ad27c",
   "metadata": {},
   "outputs": [
    {
     "data": {
      "text/plain": [
       "94.39"
      ]
     },
     "execution_count": 23,
     "metadata": {},
     "output_type": "execute_result"
    }
   ],
   "source": [
    "round(test_accuracy*100,2)"
   ]
  },
  {
   "cell_type": "code",
   "execution_count": null,
   "id": "f2a2a74b",
   "metadata": {},
   "outputs": [],
   "source": []
  }
 ],
 "metadata": {
  "kernelspec": {
   "display_name": "Python 3 (ipykernel)",
   "language": "python",
   "name": "python3"
  },
  "language_info": {
   "codemirror_mode": {
    "name": "ipython",
    "version": 3
   },
   "file_extension": ".py",
   "mimetype": "text/x-python",
   "name": "python",
   "nbconvert_exporter": "python",
   "pygments_lexer": "ipython3",
   "version": "3.11.4"
  }
 },
 "nbformat": 4,
 "nbformat_minor": 5
}
