{
 "cells": [
  {
   "cell_type": "code",
   "execution_count": 1,
   "id": "659e8b27",
   "metadata": {},
   "outputs": [],
   "source": [
    "#Import the packages\n",
    "import pandas as pd\n",
    "from sklearn.metrics import mean_squared_error\n",
    "from sklearn.tree import DecisionTreeRegressor"
   ]
  },
  {
   "cell_type": "code",
   "execution_count": 5,
   "id": "487bf192",
   "metadata": {},
   "outputs": [],
   "source": [
    "#Import thr data\n",
    "mydata=pd.read_excel(\"C:/Users/tsaip/Downloads/Data files for upcoming classes (2)/Mult_Reg_Conversion.xlsx\")"
   ]
  },
  {
   "cell_type": "code",
   "execution_count": 6,
   "id": "2bf1862f",
   "metadata": {},
   "outputs": [],
   "source": [
    "x=mydata.iloc[:,1:4]"
   ]
  },
  {
   "cell_type": "code",
   "execution_count": 7,
   "id": "6c9182c9",
   "metadata": {},
   "outputs": [],
   "source": [
    "y=mydata.Conversion"
   ]
  },
  {
   "cell_type": "code",
   "execution_count": 9,
   "id": "ecacbc58",
   "metadata": {},
   "outputs": [],
   "source": [
    "mymodel1=DecisionTreeRegressor(max_depth=2)"
   ]
  },
  {
   "cell_type": "code",
   "execution_count": 10,
   "id": "2d5a9d57",
   "metadata": {},
   "outputs": [],
   "source": [
    "#Fit first model to data\n",
    "mymodel1=mymodel1.fit(x,y)"
   ]
  },
  {
   "cell_type": "code",
   "execution_count": 11,
   "id": "53c48e9a",
   "metadata": {},
   "outputs": [],
   "source": [
    "rsq=mymodel1.score(x,y)"
   ]
  },
  {
   "cell_type": "code",
   "execution_count": 12,
   "id": "56bcd47c",
   "metadata": {},
   "outputs": [
    {
     "data": {
      "text/plain": [
       "0.9016028264225184"
      ]
     },
     "execution_count": 12,
     "metadata": {},
     "output_type": "execute_result"
    }
   ],
   "source": [
    "rsq"
   ]
  },
  {
   "cell_type": "code",
   "execution_count": 13,
   "id": "9ec8191f",
   "metadata": {},
   "outputs": [],
   "source": [
    "ypred=mymodel1.predict(x)"
   ]
  },
  {
   "cell_type": "code",
   "execution_count": 26,
   "id": "e2c4da40",
   "metadata": {},
   "outputs": [],
   "source": [
    "#MSE\n",
    "mse=mean_squared_error(y,ypred)"
   ]
  },
  {
   "cell_type": "code",
   "execution_count": 27,
   "id": "a20f02f6",
   "metadata": {},
   "outputs": [
    {
     "data": {
      "text/plain": [
       "13.060437499999999"
      ]
     },
     "execution_count": 27,
     "metadata": {},
     "output_type": "execute_result"
    }
   ],
   "source": [
    "mse"
   ]
  },
  {
   "cell_type": "code",
   "execution_count": 15,
   "id": "4d947187",
   "metadata": {},
   "outputs": [],
   "source": [
    "#Compute the residuals\n",
    "res1=y-ypred"
   ]
  },
  {
   "cell_type": "code",
   "execution_count": 16,
   "id": "afddc2f9",
   "metadata": {},
   "outputs": [],
   "source": [
    "#Develop Model2\n",
    "mymodel2=DecisionTreeRegressor(max_depth=2)"
   ]
  },
  {
   "cell_type": "code",
   "execution_count": 17,
   "id": "2c64d84f",
   "metadata": {},
   "outputs": [],
   "source": [
    "#Fit the 2nd model to data\n",
    "mymodel2=mymodel2.fit(x,res1)"
   ]
  },
  {
   "cell_type": "code",
   "execution_count": 18,
   "id": "dc43045f",
   "metadata": {},
   "outputs": [],
   "source": [
    "#Predicted values for 2nd model\n",
    "ypred2=mymodel2.predict(x)"
   ]
  },
  {
   "cell_type": "code",
   "execution_count": 19,
   "id": "f72f0cc3",
   "metadata": {},
   "outputs": [],
   "source": [
    "#Residuals of 2nd model\n",
    "res2= res1-ypred2"
   ]
  },
  {
   "cell_type": "code",
   "execution_count": 20,
   "id": "4178f9ab",
   "metadata": {},
   "outputs": [],
   "source": [
    "#Develop the 3rd model\n",
    "mymodel3=DecisionTreeRegressor(max_depth=2)"
   ]
  },
  {
   "cell_type": "code",
   "execution_count": 21,
   "id": "bce3aa66",
   "metadata": {},
   "outputs": [],
   "source": [
    "#Fit the 2nd model to data\n",
    "mymodel3=mymodel3.fit(x,res2)"
   ]
  },
  {
   "cell_type": "code",
   "execution_count": 23,
   "id": "0b9894e7",
   "metadata": {},
   "outputs": [],
   "source": [
    "#Predicted value of boosting model\n",
    "ypred_boost=sum(tree.predict(x) for tree in (mymodel1,mymodel2,mymodel3))"
   ]
  },
  {
   "cell_type": "code",
   "execution_count": 24,
   "id": "5b885a61",
   "metadata": {},
   "outputs": [],
   "source": [
    "#MSE for boosting\n",
    "mse=mean_squared_error(y,ypred_boost)"
   ]
  },
  {
   "cell_type": "code",
   "execution_count": 25,
   "id": "324e94bb",
   "metadata": {},
   "outputs": [
    {
     "data": {
      "text/plain": [
       "0.7080793612637369"
      ]
     },
     "execution_count": 25,
     "metadata": {},
     "output_type": "execute_result"
    }
   ],
   "source": [
    "mse"
   ]
  },
  {
   "cell_type": "code",
   "execution_count": null,
   "id": "9d2570a0",
   "metadata": {},
   "outputs": [],
   "source": [
    "#Another way of Boosting"
   ]
  },
  {
   "cell_type": "code",
   "execution_count": 28,
   "id": "44db2d03",
   "metadata": {},
   "outputs": [],
   "source": [
    "#Import the package\n",
    "from sklearn.ensemble import GradientBoostingRegressor"
   ]
  },
  {
   "cell_type": "code",
   "execution_count": 29,
   "id": "a319eff1",
   "metadata": {},
   "outputs": [],
   "source": [
    "#Develop Gradient boosting model\n",
    "mymodel=GradientBoostingRegressor(max_depth=2,learning_rate=1,n_estimators=3)"
   ]
  },
  {
   "cell_type": "code",
   "execution_count": 31,
   "id": "39ea9929",
   "metadata": {},
   "outputs": [],
   "source": [
    "#Fit the model to data\n",
    "mymodel=mymodel.fit(x,y)"
   ]
  },
  {
   "cell_type": "code",
   "execution_count": 32,
   "id": "3227f82c",
   "metadata": {},
   "outputs": [],
   "source": [
    "rsq=mymodel.score(x,y)"
   ]
  },
  {
   "cell_type": "code",
   "execution_count": 33,
   "id": "ebde28af",
   "metadata": {},
   "outputs": [
    {
     "data": {
      "text/plain": [
       "0.9946653389048491"
      ]
     },
     "execution_count": 33,
     "metadata": {},
     "output_type": "execute_result"
    }
   ],
   "source": [
    "rsq"
   ]
  },
  {
   "cell_type": "code",
   "execution_count": 34,
   "id": "50cf40a4",
   "metadata": {},
   "outputs": [],
   "source": [
    "#Pred values\n",
    "ypred=mymodel.predict(x)"
   ]
  },
  {
   "cell_type": "code",
   "execution_count": 35,
   "id": "c741a9c2",
   "metadata": {},
   "outputs": [],
   "source": [
    "#MSE\n",
    "mse=mean_squared_error(y,ypred)"
   ]
  },
  {
   "cell_type": "code",
   "execution_count": 36,
   "id": "6aeb9e6a",
   "metadata": {},
   "outputs": [
    {
     "data": {
      "text/plain": [
       "0.7080793612637368"
      ]
     },
     "execution_count": 36,
     "metadata": {},
     "output_type": "execute_result"
    }
   ],
   "source": [
    "mse"
   ]
  },
  {
   "cell_type": "code",
   "execution_count": null,
   "id": "02c6349f",
   "metadata": {},
   "outputs": [],
   "source": []
  }
 ],
 "metadata": {
  "kernelspec": {
   "display_name": "Python 3 (ipykernel)",
   "language": "python",
   "name": "python3"
  },
  "language_info": {
   "codemirror_mode": {
    "name": "ipython",
    "version": 3
   },
   "file_extension": ".py",
   "mimetype": "text/x-python",
   "name": "python",
   "nbconvert_exporter": "python",
   "pygments_lexer": "ipython3",
   "version": "3.11.4"
  }
 },
 "nbformat": 4,
 "nbformat_minor": 5
}
